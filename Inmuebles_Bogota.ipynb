{
  "nbformat": 4,
  "nbformat_minor": 0,
  "metadata": {
    "colab": {
      "provenance": [],
      "authorship_tag": "ABX9TyO9e2PNc2pFna5j78ot6Yds",
      "include_colab_link": true
    },
    "kernelspec": {
      "name": "python3",
      "display_name": "Python 3"
    },
    "language_info": {
      "name": "python"
    }
  },
  "cells": [
    {
      "cell_type": "markdown",
      "metadata": {
        "id": "view-in-github",
        "colab_type": "text"
      },
      "source": [
        "<a href=\"https://colab.research.google.com/github/RamirezLina/InmersionDatos/blob/main/Inmuebles_Bogota.ipynb\" target=\"_parent\"><img src=\"https://colab.research.google.com/assets/colab-badge.svg\" alt=\"Open In Colab\"/></a>"
      ]
    },
    {
      "cell_type": "markdown",
      "source": [
        "INMERSIÓN DE DATOS - ALURA LATAM CLASE 1"
      ],
      "metadata": {
        "id": "n-BLoZeF7TR9"
      }
    },
    {
      "cell_type": "code",
      "source": [
        " from google.colab import drive\n",
        "\n",
        " drive.mount('/content/drive')"
      ],
      "metadata": {
        "colab": {
          "base_uri": "https://localhost:8080/"
        },
        "id": "CldUqHLm7Gto",
        "outputId": "e61d95ec-10b9-4b97-b85d-35ffa4939eb9"
      },
      "execution_count": null,
      "outputs": [
        {
          "output_type": "stream",
          "name": "stdout",
          "text": [
            "Mounted at /content/drive\n"
          ]
        }
      ]
    },
    {
      "cell_type": "code",
      "source": [
        "import pandas as pd\n",
        "\n",
        "inmuebles = pd.read_csv('/content/drive/MyDrive/Inmersión de Datos - Alura/inmuebles_bogota.csv')\n",
        "\n",
        "inmuebles.head()"
      ],
      "metadata": {
        "colab": {
          "base_uri": "https://localhost:8080/",
          "height": 495
        },
        "id": "oNi35uyU6tSg",
        "outputId": "968e9d55-2821-4faa-e354-c8519de0d25e"
      },
      "execution_count": null,
      "outputs": [
        {
          "output_type": "execute_result",
          "data": {
            "text/plain": [
              "          Tipo                                 Descripcion  Habitaciones  \\\n",
              "0  Apartamento  Apartamento en venta en Zona Noroccidental             3   \n",
              "1         Casa                   Casa en venta en Castilla             4   \n",
              "2  Apartamento     Apartamento en venta en Chico Reservado             3   \n",
              "3  Apartamento             Apartamento en venta en Usaquén             3   \n",
              "4  Apartamento         Apartamento en venta en Bella Suiza             2   \n",
              "\n",
              "   Baños  Área              Barrio                                    UPZ  \\\n",
              "0      2    70  Zona Noroccidental     CHAPINERO: Pardo Rubio + Chapinero   \n",
              "1      3   170            Castilla            KENNEDY: Castilla + Bavaria   \n",
              "2      3   144     Chico Reservado     CHAPINERO: Chicó Lago + El Refugio   \n",
              "3      2   154             Usaquén                                Usaquén   \n",
              "4      3   128         Bella Suiza  USAQUÉN: Country Club + Santa Bárbara   \n",
              "\n",
              "             Valor  \n",
              "0    $ 360.000.000  \n",
              "1    $ 670.000.000  \n",
              "2  $ 1.120.000.000  \n",
              "3    $ 890.000.000  \n",
              "4    $ 970.000.000  "
            ],
            "text/html": [
              "\n",
              "  <div id=\"df-c5ecec10-bce6-483e-b55c-e0dada1a3938\">\n",
              "    <div class=\"colab-df-container\">\n",
              "      <div>\n",
              "<style scoped>\n",
              "    .dataframe tbody tr th:only-of-type {\n",
              "        vertical-align: middle;\n",
              "    }\n",
              "\n",
              "    .dataframe tbody tr th {\n",
              "        vertical-align: top;\n",
              "    }\n",
              "\n",
              "    .dataframe thead th {\n",
              "        text-align: right;\n",
              "    }\n",
              "</style>\n",
              "<table border=\"1\" class=\"dataframe\">\n",
              "  <thead>\n",
              "    <tr style=\"text-align: right;\">\n",
              "      <th></th>\n",
              "      <th>Tipo</th>\n",
              "      <th>Descripcion</th>\n",
              "      <th>Habitaciones</th>\n",
              "      <th>Baños</th>\n",
              "      <th>Área</th>\n",
              "      <th>Barrio</th>\n",
              "      <th>UPZ</th>\n",
              "      <th>Valor</th>\n",
              "    </tr>\n",
              "  </thead>\n",
              "  <tbody>\n",
              "    <tr>\n",
              "      <th>0</th>\n",
              "      <td>Apartamento</td>\n",
              "      <td>Apartamento en venta en Zona Noroccidental</td>\n",
              "      <td>3</td>\n",
              "      <td>2</td>\n",
              "      <td>70</td>\n",
              "      <td>Zona Noroccidental</td>\n",
              "      <td>CHAPINERO: Pardo Rubio + Chapinero</td>\n",
              "      <td>$ 360.000.000</td>\n",
              "    </tr>\n",
              "    <tr>\n",
              "      <th>1</th>\n",
              "      <td>Casa</td>\n",
              "      <td>Casa en venta en Castilla</td>\n",
              "      <td>4</td>\n",
              "      <td>3</td>\n",
              "      <td>170</td>\n",
              "      <td>Castilla</td>\n",
              "      <td>KENNEDY: Castilla + Bavaria</td>\n",
              "      <td>$ 670.000.000</td>\n",
              "    </tr>\n",
              "    <tr>\n",
              "      <th>2</th>\n",
              "      <td>Apartamento</td>\n",
              "      <td>Apartamento en venta en Chico Reservado</td>\n",
              "      <td>3</td>\n",
              "      <td>3</td>\n",
              "      <td>144</td>\n",
              "      <td>Chico Reservado</td>\n",
              "      <td>CHAPINERO: Chicó Lago + El Refugio</td>\n",
              "      <td>$ 1.120.000.000</td>\n",
              "    </tr>\n",
              "    <tr>\n",
              "      <th>3</th>\n",
              "      <td>Apartamento</td>\n",
              "      <td>Apartamento en venta en Usaquén</td>\n",
              "      <td>3</td>\n",
              "      <td>2</td>\n",
              "      <td>154</td>\n",
              "      <td>Usaquén</td>\n",
              "      <td>Usaquén</td>\n",
              "      <td>$ 890.000.000</td>\n",
              "    </tr>\n",
              "    <tr>\n",
              "      <th>4</th>\n",
              "      <td>Apartamento</td>\n",
              "      <td>Apartamento en venta en Bella Suiza</td>\n",
              "      <td>2</td>\n",
              "      <td>3</td>\n",
              "      <td>128</td>\n",
              "      <td>Bella Suiza</td>\n",
              "      <td>USAQUÉN: Country Club + Santa Bárbara</td>\n",
              "      <td>$ 970.000.000</td>\n",
              "    </tr>\n",
              "  </tbody>\n",
              "</table>\n",
              "</div>\n",
              "      <button class=\"colab-df-convert\" onclick=\"convertToInteractive('df-c5ecec10-bce6-483e-b55c-e0dada1a3938')\"\n",
              "              title=\"Convert this dataframe to an interactive table.\"\n",
              "              style=\"display:none;\">\n",
              "        \n",
              "  <svg xmlns=\"http://www.w3.org/2000/svg\" height=\"24px\"viewBox=\"0 0 24 24\"\n",
              "       width=\"24px\">\n",
              "    <path d=\"M0 0h24v24H0V0z\" fill=\"none\"/>\n",
              "    <path d=\"M18.56 5.44l.94 2.06.94-2.06 2.06-.94-2.06-.94-.94-2.06-.94 2.06-2.06.94zm-11 1L8.5 8.5l.94-2.06 2.06-.94-2.06-.94L8.5 2.5l-.94 2.06-2.06.94zm10 10l.94 2.06.94-2.06 2.06-.94-2.06-.94-.94-2.06-.94 2.06-2.06.94z\"/><path d=\"M17.41 7.96l-1.37-1.37c-.4-.4-.92-.59-1.43-.59-.52 0-1.04.2-1.43.59L10.3 9.45l-7.72 7.72c-.78.78-.78 2.05 0 2.83L4 21.41c.39.39.9.59 1.41.59.51 0 1.02-.2 1.41-.59l7.78-7.78 2.81-2.81c.8-.78.8-2.07 0-2.86zM5.41 20L4 18.59l7.72-7.72 1.47 1.35L5.41 20z\"/>\n",
              "  </svg>\n",
              "      </button>\n",
              "      \n",
              "  <style>\n",
              "    .colab-df-container {\n",
              "      display:flex;\n",
              "      flex-wrap:wrap;\n",
              "      gap: 12px;\n",
              "    }\n",
              "\n",
              "    .colab-df-convert {\n",
              "      background-color: #E8F0FE;\n",
              "      border: none;\n",
              "      border-radius: 50%;\n",
              "      cursor: pointer;\n",
              "      display: none;\n",
              "      fill: #1967D2;\n",
              "      height: 32px;\n",
              "      padding: 0 0 0 0;\n",
              "      width: 32px;\n",
              "    }\n",
              "\n",
              "    .colab-df-convert:hover {\n",
              "      background-color: #E2EBFA;\n",
              "      box-shadow: 0px 1px 2px rgba(60, 64, 67, 0.3), 0px 1px 3px 1px rgba(60, 64, 67, 0.15);\n",
              "      fill: #174EA6;\n",
              "    }\n",
              "\n",
              "    [theme=dark] .colab-df-convert {\n",
              "      background-color: #3B4455;\n",
              "      fill: #D2E3FC;\n",
              "    }\n",
              "\n",
              "    [theme=dark] .colab-df-convert:hover {\n",
              "      background-color: #434B5C;\n",
              "      box-shadow: 0px 1px 3px 1px rgba(0, 0, 0, 0.15);\n",
              "      filter: drop-shadow(0px 1px 2px rgba(0, 0, 0, 0.3));\n",
              "      fill: #FFFFFF;\n",
              "    }\n",
              "  </style>\n",
              "\n",
              "      <script>\n",
              "        const buttonEl =\n",
              "          document.querySelector('#df-c5ecec10-bce6-483e-b55c-e0dada1a3938 button.colab-df-convert');\n",
              "        buttonEl.style.display =\n",
              "          google.colab.kernel.accessAllowed ? 'block' : 'none';\n",
              "\n",
              "        async function convertToInteractive(key) {\n",
              "          const element = document.querySelector('#df-c5ecec10-bce6-483e-b55c-e0dada1a3938');\n",
              "          const dataTable =\n",
              "            await google.colab.kernel.invokeFunction('convertToInteractive',\n",
              "                                                     [key], {});\n",
              "          if (!dataTable) return;\n",
              "\n",
              "          const docLinkHtml = 'Like what you see? Visit the ' +\n",
              "            '<a target=\"_blank\" href=https://colab.research.google.com/notebooks/data_table.ipynb>data table notebook</a>'\n",
              "            + ' to learn more about interactive tables.';\n",
              "          element.innerHTML = '';\n",
              "          dataTable['output_type'] = 'display_data';\n",
              "          await google.colab.output.renderOutput(dataTable, element);\n",
              "          const docLink = document.createElement('div');\n",
              "          docLink.innerHTML = docLinkHtml;\n",
              "          element.appendChild(docLink);\n",
              "        }\n",
              "      </script>\n",
              "    </div>\n",
              "  </div>\n",
              "  "
            ]
          },
          "metadata": {},
          "execution_count": 2
        }
      ]
    },
    {
      "cell_type": "code",
      "source": [
        "inmuebles.shape"
      ],
      "metadata": {
        "colab": {
          "base_uri": "https://localhost:8080/"
        },
        "id": "TEMx1P0K6vAA",
        "outputId": "b5e5e832-7899-41fe-dd56-7dd254a146e6"
      },
      "execution_count": null,
      "outputs": [
        {
          "output_type": "execute_result",
          "data": {
            "text/plain": [
              "(9520, 8)"
            ]
          },
          "metadata": {},
          "execution_count": 4
        }
      ]
    },
    {
      "cell_type": "code",
      "source": [
        "inmuebles.columns"
      ],
      "metadata": {
        "colab": {
          "base_uri": "https://localhost:8080/"
        },
        "id": "whq1KBCVSgBx",
        "outputId": "8b029d65-6a5c-4188-ec9c-ab30d6e6164e"
      },
      "execution_count": null,
      "outputs": [
        {
          "output_type": "execute_result",
          "data": {
            "text/plain": [
              "Index(['Tipo', 'Descripcion', 'Habitaciones', 'Baños', 'Área', 'Barrio', 'UPZ',\n",
              "       'Valor'],\n",
              "      dtype='object')"
            ]
          },
          "metadata": {},
          "execution_count": 10
        }
      ]
    },
    {
      "cell_type": "code",
      "source": [
        "columnas = {'Baños':'Banos','Área':'Area'}\n",
        "\n",
        "inmuebles = inmuebles.rename(columns=columnas)\n",
        "\n",
        "inmuebles.sample(10)"
      ],
      "metadata": {
        "colab": {
          "base_uri": "https://localhost:8080/",
          "height": 860
        },
        "id": "0Jm2ALxxSgob",
        "outputId": "93e5c96a-0138-43a5-a7ac-203b92c24cee"
      },
      "execution_count": null,
      "outputs": [
        {
          "output_type": "execute_result",
          "data": {
            "text/plain": [
              "             Tipo                                 Descripcion  Habitaciones  \\\n",
              "4827  Apartamento           Apartamento en venta en Chapinero             1   \n",
              "9517        Local                  Local en venta en Restrepo             8   \n",
              "5370  Apartamento                Apartamento en venta en Bosa             3   \n",
              "7713  Apartamento            Apartamento en venta en Engativa             3   \n",
              "5228  Apartamento     Apartamento en venta en Chico Reservado             3   \n",
              "9441  Apartamento       Apartamento en venta en Santa Barbara             4   \n",
              "6255  Apartamento  Apartamento en venta en Zona Noroccidental             2   \n",
              "426   Apartamento         Apartamento en venta en Teusaquillo             4   \n",
              "8427  Apartamento    Apartamento en venta en Lagos De Cordoba             3   \n",
              "3313         Casa         Casa en venta en Portales Del Norte             3   \n",
              "\n",
              "      Banos  Area              Barrio                                    UPZ  \\\n",
              "4827      2    57           Chapinero     CHAPINERO: Pardo Rubio + Chapinero   \n",
              "9517      6   383            Restrepo                               Restrepo   \n",
              "5370      1    47                Bosa                           Bosa Central   \n",
              "7713      2    99            Engativa                               Engativá   \n",
              "5228      4   292     Chico Reservado     CHAPINERO: Chicó Lago + El Refugio   \n",
              "9441      5   380       Santa Barbara  USAQUÉN: Country Club + Santa Bárbara   \n",
              "6255      1    44  Zona Noroccidental     CHAPINERO: Pardo Rubio + Chapinero   \n",
              "426       3    90         Teusaquillo                            Teusaquillo   \n",
              "8427      3    77    Lagos De Cordoba                                   Niza   \n",
              "3313      3   130  Portales Del Norte                               Britalia   \n",
              "\n",
              "                Valor  \n",
              "4827    $ 395.000.000  \n",
              "9517    $ 900.000.000  \n",
              "5370    $ 125.500.000  \n",
              "7713    $ 600.000.000  \n",
              "5228  $ 3.807.000.000  \n",
              "9441  $ 1.350.000.000  \n",
              "6255    $ 144.000.000  \n",
              "426     $ 490.000.000  \n",
              "8427    $ 500.000.000  \n",
              "3313    $ 500.000.000  "
            ],
            "text/html": [
              "\n",
              "  <div id=\"df-269ce1dc-701b-4cb6-a538-8e33b2587c75\">\n",
              "    <div class=\"colab-df-container\">\n",
              "      <div>\n",
              "<style scoped>\n",
              "    .dataframe tbody tr th:only-of-type {\n",
              "        vertical-align: middle;\n",
              "    }\n",
              "\n",
              "    .dataframe tbody tr th {\n",
              "        vertical-align: top;\n",
              "    }\n",
              "\n",
              "    .dataframe thead th {\n",
              "        text-align: right;\n",
              "    }\n",
              "</style>\n",
              "<table border=\"1\" class=\"dataframe\">\n",
              "  <thead>\n",
              "    <tr style=\"text-align: right;\">\n",
              "      <th></th>\n",
              "      <th>Tipo</th>\n",
              "      <th>Descripcion</th>\n",
              "      <th>Habitaciones</th>\n",
              "      <th>Banos</th>\n",
              "      <th>Area</th>\n",
              "      <th>Barrio</th>\n",
              "      <th>UPZ</th>\n",
              "      <th>Valor</th>\n",
              "    </tr>\n",
              "  </thead>\n",
              "  <tbody>\n",
              "    <tr>\n",
              "      <th>4827</th>\n",
              "      <td>Apartamento</td>\n",
              "      <td>Apartamento en venta en Chapinero</td>\n",
              "      <td>1</td>\n",
              "      <td>2</td>\n",
              "      <td>57</td>\n",
              "      <td>Chapinero</td>\n",
              "      <td>CHAPINERO: Pardo Rubio + Chapinero</td>\n",
              "      <td>$ 395.000.000</td>\n",
              "    </tr>\n",
              "    <tr>\n",
              "      <th>9517</th>\n",
              "      <td>Local</td>\n",
              "      <td>Local en venta en Restrepo</td>\n",
              "      <td>8</td>\n",
              "      <td>6</td>\n",
              "      <td>383</td>\n",
              "      <td>Restrepo</td>\n",
              "      <td>Restrepo</td>\n",
              "      <td>$ 900.000.000</td>\n",
              "    </tr>\n",
              "    <tr>\n",
              "      <th>5370</th>\n",
              "      <td>Apartamento</td>\n",
              "      <td>Apartamento en venta en Bosa</td>\n",
              "      <td>3</td>\n",
              "      <td>1</td>\n",
              "      <td>47</td>\n",
              "      <td>Bosa</td>\n",
              "      <td>Bosa Central</td>\n",
              "      <td>$ 125.500.000</td>\n",
              "    </tr>\n",
              "    <tr>\n",
              "      <th>7713</th>\n",
              "      <td>Apartamento</td>\n",
              "      <td>Apartamento en venta en Engativa</td>\n",
              "      <td>3</td>\n",
              "      <td>2</td>\n",
              "      <td>99</td>\n",
              "      <td>Engativa</td>\n",
              "      <td>Engativá</td>\n",
              "      <td>$ 600.000.000</td>\n",
              "    </tr>\n",
              "    <tr>\n",
              "      <th>5228</th>\n",
              "      <td>Apartamento</td>\n",
              "      <td>Apartamento en venta en Chico Reservado</td>\n",
              "      <td>3</td>\n",
              "      <td>4</td>\n",
              "      <td>292</td>\n",
              "      <td>Chico Reservado</td>\n",
              "      <td>CHAPINERO: Chicó Lago + El Refugio</td>\n",
              "      <td>$ 3.807.000.000</td>\n",
              "    </tr>\n",
              "    <tr>\n",
              "      <th>9441</th>\n",
              "      <td>Apartamento</td>\n",
              "      <td>Apartamento en venta en Santa Barbara</td>\n",
              "      <td>4</td>\n",
              "      <td>5</td>\n",
              "      <td>380</td>\n",
              "      <td>Santa Barbara</td>\n",
              "      <td>USAQUÉN: Country Club + Santa Bárbara</td>\n",
              "      <td>$ 1.350.000.000</td>\n",
              "    </tr>\n",
              "    <tr>\n",
              "      <th>6255</th>\n",
              "      <td>Apartamento</td>\n",
              "      <td>Apartamento en venta en Zona Noroccidental</td>\n",
              "      <td>2</td>\n",
              "      <td>1</td>\n",
              "      <td>44</td>\n",
              "      <td>Zona Noroccidental</td>\n",
              "      <td>CHAPINERO: Pardo Rubio + Chapinero</td>\n",
              "      <td>$ 144.000.000</td>\n",
              "    </tr>\n",
              "    <tr>\n",
              "      <th>426</th>\n",
              "      <td>Apartamento</td>\n",
              "      <td>Apartamento en venta en Teusaquillo</td>\n",
              "      <td>4</td>\n",
              "      <td>3</td>\n",
              "      <td>90</td>\n",
              "      <td>Teusaquillo</td>\n",
              "      <td>Teusaquillo</td>\n",
              "      <td>$ 490.000.000</td>\n",
              "    </tr>\n",
              "    <tr>\n",
              "      <th>8427</th>\n",
              "      <td>Apartamento</td>\n",
              "      <td>Apartamento en venta en Lagos De Cordoba</td>\n",
              "      <td>3</td>\n",
              "      <td>3</td>\n",
              "      <td>77</td>\n",
              "      <td>Lagos De Cordoba</td>\n",
              "      <td>Niza</td>\n",
              "      <td>$ 500.000.000</td>\n",
              "    </tr>\n",
              "    <tr>\n",
              "      <th>3313</th>\n",
              "      <td>Casa</td>\n",
              "      <td>Casa en venta en Portales Del Norte</td>\n",
              "      <td>3</td>\n",
              "      <td>3</td>\n",
              "      <td>130</td>\n",
              "      <td>Portales Del Norte</td>\n",
              "      <td>Britalia</td>\n",
              "      <td>$ 500.000.000</td>\n",
              "    </tr>\n",
              "  </tbody>\n",
              "</table>\n",
              "</div>\n",
              "      <button class=\"colab-df-convert\" onclick=\"convertToInteractive('df-269ce1dc-701b-4cb6-a538-8e33b2587c75')\"\n",
              "              title=\"Convert this dataframe to an interactive table.\"\n",
              "              style=\"display:none;\">\n",
              "        \n",
              "  <svg xmlns=\"http://www.w3.org/2000/svg\" height=\"24px\"viewBox=\"0 0 24 24\"\n",
              "       width=\"24px\">\n",
              "    <path d=\"M0 0h24v24H0V0z\" fill=\"none\"/>\n",
              "    <path d=\"M18.56 5.44l.94 2.06.94-2.06 2.06-.94-2.06-.94-.94-2.06-.94 2.06-2.06.94zm-11 1L8.5 8.5l.94-2.06 2.06-.94-2.06-.94L8.5 2.5l-.94 2.06-2.06.94zm10 10l.94 2.06.94-2.06 2.06-.94-2.06-.94-.94-2.06-.94 2.06-2.06.94z\"/><path d=\"M17.41 7.96l-1.37-1.37c-.4-.4-.92-.59-1.43-.59-.52 0-1.04.2-1.43.59L10.3 9.45l-7.72 7.72c-.78.78-.78 2.05 0 2.83L4 21.41c.39.39.9.59 1.41.59.51 0 1.02-.2 1.41-.59l7.78-7.78 2.81-2.81c.8-.78.8-2.07 0-2.86zM5.41 20L4 18.59l7.72-7.72 1.47 1.35L5.41 20z\"/>\n",
              "  </svg>\n",
              "      </button>\n",
              "      \n",
              "  <style>\n",
              "    .colab-df-container {\n",
              "      display:flex;\n",
              "      flex-wrap:wrap;\n",
              "      gap: 12px;\n",
              "    }\n",
              "\n",
              "    .colab-df-convert {\n",
              "      background-color: #E8F0FE;\n",
              "      border: none;\n",
              "      border-radius: 50%;\n",
              "      cursor: pointer;\n",
              "      display: none;\n",
              "      fill: #1967D2;\n",
              "      height: 32px;\n",
              "      padding: 0 0 0 0;\n",
              "      width: 32px;\n",
              "    }\n",
              "\n",
              "    .colab-df-convert:hover {\n",
              "      background-color: #E2EBFA;\n",
              "      box-shadow: 0px 1px 2px rgba(60, 64, 67, 0.3), 0px 1px 3px 1px rgba(60, 64, 67, 0.15);\n",
              "      fill: #174EA6;\n",
              "    }\n",
              "\n",
              "    [theme=dark] .colab-df-convert {\n",
              "      background-color: #3B4455;\n",
              "      fill: #D2E3FC;\n",
              "    }\n",
              "\n",
              "    [theme=dark] .colab-df-convert:hover {\n",
              "      background-color: #434B5C;\n",
              "      box-shadow: 0px 1px 3px 1px rgba(0, 0, 0, 0.15);\n",
              "      filter: drop-shadow(0px 1px 2px rgba(0, 0, 0, 0.3));\n",
              "      fill: #FFFFFF;\n",
              "    }\n",
              "  </style>\n",
              "\n",
              "      <script>\n",
              "        const buttonEl =\n",
              "          document.querySelector('#df-269ce1dc-701b-4cb6-a538-8e33b2587c75 button.colab-df-convert');\n",
              "        buttonEl.style.display =\n",
              "          google.colab.kernel.accessAllowed ? 'block' : 'none';\n",
              "\n",
              "        async function convertToInteractive(key) {\n",
              "          const element = document.querySelector('#df-269ce1dc-701b-4cb6-a538-8e33b2587c75');\n",
              "          const dataTable =\n",
              "            await google.colab.kernel.invokeFunction('convertToInteractive',\n",
              "                                                     [key], {});\n",
              "          if (!dataTable) return;\n",
              "\n",
              "          const docLinkHtml = 'Like what you see? Visit the ' +\n",
              "            '<a target=\"_blank\" href=https://colab.research.google.com/notebooks/data_table.ipynb>data table notebook</a>'\n",
              "            + ' to learn more about interactive tables.';\n",
              "          element.innerHTML = '';\n",
              "          dataTable['output_type'] = 'display_data';\n",
              "          await google.colab.output.renderOutput(dataTable, element);\n",
              "          const docLink = document.createElement('div');\n",
              "          docLink.innerHTML = docLinkHtml;\n",
              "          element.appendChild(docLink);\n",
              "        }\n",
              "      </script>\n",
              "    </div>\n",
              "  </div>\n",
              "  "
            ]
          },
          "metadata": {},
          "execution_count": 11
        }
      ]
    },
    {
      "cell_type": "code",
      "source": [
        "inmuebles.tail()"
      ],
      "metadata": {
        "colab": {
          "base_uri": "https://localhost:8080/",
          "height": 478
        },
        "id": "PhwJHmNSSgu5",
        "outputId": "df1b581f-2e47-4385-c71d-53f8f03dac8a"
      },
      "execution_count": null,
      "outputs": [
        {
          "output_type": "execute_result",
          "data": {
            "text/plain": [
              "             Tipo                                     Descripcion  \\\n",
              "9515  Apartamento                 Apartamento en venta en Kennedy   \n",
              "9516  Apartamento  Apartamento en venta en Parque Central Bavaria   \n",
              "9517        Local                      Local en venta en Restrepo   \n",
              "9518         Casa                       Casa en venta en Engativa   \n",
              "9519  Apartamento                 Apartamento en venta en Tintala   \n",
              "\n",
              "      Habitaciones  Banos  Area                  Barrio  \\\n",
              "9515             3      2    70                 Kennedy   \n",
              "9516             2      2   100  Parque Central Bavaria   \n",
              "9517             8      6   383                Restrepo   \n",
              "9518             3      2   183                Engativa   \n",
              "9519             3      1    52                 Tintala   \n",
              "\n",
              "                                         UPZ          Valor  \n",
              "9515                         Kennedy Central  $ 290.000.000  \n",
              "9516  SANTA FE: Las Nieves + Sagrado Corazón  $ 670.000.000  \n",
              "9517                                Restrepo  $ 900.000.000  \n",
              "9518                                Engativá  $ 335.000.000  \n",
              "9519                                 Tintala  $ 144.990.000  "
            ],
            "text/html": [
              "\n",
              "  <div id=\"df-d7b6b1fc-01a6-4ca4-b9ed-3ca755d791ef\">\n",
              "    <div class=\"colab-df-container\">\n",
              "      <div>\n",
              "<style scoped>\n",
              "    .dataframe tbody tr th:only-of-type {\n",
              "        vertical-align: middle;\n",
              "    }\n",
              "\n",
              "    .dataframe tbody tr th {\n",
              "        vertical-align: top;\n",
              "    }\n",
              "\n",
              "    .dataframe thead th {\n",
              "        text-align: right;\n",
              "    }\n",
              "</style>\n",
              "<table border=\"1\" class=\"dataframe\">\n",
              "  <thead>\n",
              "    <tr style=\"text-align: right;\">\n",
              "      <th></th>\n",
              "      <th>Tipo</th>\n",
              "      <th>Descripcion</th>\n",
              "      <th>Habitaciones</th>\n",
              "      <th>Banos</th>\n",
              "      <th>Area</th>\n",
              "      <th>Barrio</th>\n",
              "      <th>UPZ</th>\n",
              "      <th>Valor</th>\n",
              "    </tr>\n",
              "  </thead>\n",
              "  <tbody>\n",
              "    <tr>\n",
              "      <th>9515</th>\n",
              "      <td>Apartamento</td>\n",
              "      <td>Apartamento en venta en Kennedy</td>\n",
              "      <td>3</td>\n",
              "      <td>2</td>\n",
              "      <td>70</td>\n",
              "      <td>Kennedy</td>\n",
              "      <td>Kennedy Central</td>\n",
              "      <td>$ 290.000.000</td>\n",
              "    </tr>\n",
              "    <tr>\n",
              "      <th>9516</th>\n",
              "      <td>Apartamento</td>\n",
              "      <td>Apartamento en venta en Parque Central Bavaria</td>\n",
              "      <td>2</td>\n",
              "      <td>2</td>\n",
              "      <td>100</td>\n",
              "      <td>Parque Central Bavaria</td>\n",
              "      <td>SANTA FE: Las Nieves + Sagrado Corazón</td>\n",
              "      <td>$ 670.000.000</td>\n",
              "    </tr>\n",
              "    <tr>\n",
              "      <th>9517</th>\n",
              "      <td>Local</td>\n",
              "      <td>Local en venta en Restrepo</td>\n",
              "      <td>8</td>\n",
              "      <td>6</td>\n",
              "      <td>383</td>\n",
              "      <td>Restrepo</td>\n",
              "      <td>Restrepo</td>\n",
              "      <td>$ 900.000.000</td>\n",
              "    </tr>\n",
              "    <tr>\n",
              "      <th>9518</th>\n",
              "      <td>Casa</td>\n",
              "      <td>Casa en venta en Engativa</td>\n",
              "      <td>3</td>\n",
              "      <td>2</td>\n",
              "      <td>183</td>\n",
              "      <td>Engativa</td>\n",
              "      <td>Engativá</td>\n",
              "      <td>$ 335.000.000</td>\n",
              "    </tr>\n",
              "    <tr>\n",
              "      <th>9519</th>\n",
              "      <td>Apartamento</td>\n",
              "      <td>Apartamento en venta en Tintala</td>\n",
              "      <td>3</td>\n",
              "      <td>1</td>\n",
              "      <td>52</td>\n",
              "      <td>Tintala</td>\n",
              "      <td>Tintala</td>\n",
              "      <td>$ 144.990.000</td>\n",
              "    </tr>\n",
              "  </tbody>\n",
              "</table>\n",
              "</div>\n",
              "      <button class=\"colab-df-convert\" onclick=\"convertToInteractive('df-d7b6b1fc-01a6-4ca4-b9ed-3ca755d791ef')\"\n",
              "              title=\"Convert this dataframe to an interactive table.\"\n",
              "              style=\"display:none;\">\n",
              "        \n",
              "  <svg xmlns=\"http://www.w3.org/2000/svg\" height=\"24px\"viewBox=\"0 0 24 24\"\n",
              "       width=\"24px\">\n",
              "    <path d=\"M0 0h24v24H0V0z\" fill=\"none\"/>\n",
              "    <path d=\"M18.56 5.44l.94 2.06.94-2.06 2.06-.94-2.06-.94-.94-2.06-.94 2.06-2.06.94zm-11 1L8.5 8.5l.94-2.06 2.06-.94-2.06-.94L8.5 2.5l-.94 2.06-2.06.94zm10 10l.94 2.06.94-2.06 2.06-.94-2.06-.94-.94-2.06-.94 2.06-2.06.94z\"/><path d=\"M17.41 7.96l-1.37-1.37c-.4-.4-.92-.59-1.43-.59-.52 0-1.04.2-1.43.59L10.3 9.45l-7.72 7.72c-.78.78-.78 2.05 0 2.83L4 21.41c.39.39.9.59 1.41.59.51 0 1.02-.2 1.41-.59l7.78-7.78 2.81-2.81c.8-.78.8-2.07 0-2.86zM5.41 20L4 18.59l7.72-7.72 1.47 1.35L5.41 20z\"/>\n",
              "  </svg>\n",
              "      </button>\n",
              "      \n",
              "  <style>\n",
              "    .colab-df-container {\n",
              "      display:flex;\n",
              "      flex-wrap:wrap;\n",
              "      gap: 12px;\n",
              "    }\n",
              "\n",
              "    .colab-df-convert {\n",
              "      background-color: #E8F0FE;\n",
              "      border: none;\n",
              "      border-radius: 50%;\n",
              "      cursor: pointer;\n",
              "      display: none;\n",
              "      fill: #1967D2;\n",
              "      height: 32px;\n",
              "      padding: 0 0 0 0;\n",
              "      width: 32px;\n",
              "    }\n",
              "\n",
              "    .colab-df-convert:hover {\n",
              "      background-color: #E2EBFA;\n",
              "      box-shadow: 0px 1px 2px rgba(60, 64, 67, 0.3), 0px 1px 3px 1px rgba(60, 64, 67, 0.15);\n",
              "      fill: #174EA6;\n",
              "    }\n",
              "\n",
              "    [theme=dark] .colab-df-convert {\n",
              "      background-color: #3B4455;\n",
              "      fill: #D2E3FC;\n",
              "    }\n",
              "\n",
              "    [theme=dark] .colab-df-convert:hover {\n",
              "      background-color: #434B5C;\n",
              "      box-shadow: 0px 1px 3px 1px rgba(0, 0, 0, 0.15);\n",
              "      filter: drop-shadow(0px 1px 2px rgba(0, 0, 0, 0.3));\n",
              "      fill: #FFFFFF;\n",
              "    }\n",
              "  </style>\n",
              "\n",
              "      <script>\n",
              "        const buttonEl =\n",
              "          document.querySelector('#df-d7b6b1fc-01a6-4ca4-b9ed-3ca755d791ef button.colab-df-convert');\n",
              "        buttonEl.style.display =\n",
              "          google.colab.kernel.accessAllowed ? 'block' : 'none';\n",
              "\n",
              "        async function convertToInteractive(key) {\n",
              "          const element = document.querySelector('#df-d7b6b1fc-01a6-4ca4-b9ed-3ca755d791ef');\n",
              "          const dataTable =\n",
              "            await google.colab.kernel.invokeFunction('convertToInteractive',\n",
              "                                                     [key], {});\n",
              "          if (!dataTable) return;\n",
              "\n",
              "          const docLinkHtml = 'Like what you see? Visit the ' +\n",
              "            '<a target=\"_blank\" href=https://colab.research.google.com/notebooks/data_table.ipynb>data table notebook</a>'\n",
              "            + ' to learn more about interactive tables.';\n",
              "          element.innerHTML = '';\n",
              "          dataTable['output_type'] = 'display_data';\n",
              "          await google.colab.output.renderOutput(dataTable, element);\n",
              "          const docLink = document.createElement('div');\n",
              "          docLink.innerHTML = docLinkHtml;\n",
              "          element.appendChild(docLink);\n",
              "        }\n",
              "      </script>\n",
              "    </div>\n",
              "  </div>\n",
              "  "
            ]
          },
          "metadata": {},
          "execution_count": 7
        }
      ]
    },
    {
      "cell_type": "code",
      "source": [
        "inmuebles.info()\n"
      ],
      "metadata": {
        "colab": {
          "base_uri": "https://localhost:8080/"
        },
        "id": "jd5aF8Mz6Ffw",
        "outputId": "669fff1c-6019-4e5a-acc9-5047291c292b"
      },
      "execution_count": null,
      "outputs": [
        {
          "output_type": "stream",
          "name": "stdout",
          "text": [
            "<class 'pandas.core.frame.DataFrame'>\n",
            "RangeIndex: 9520 entries, 0 to 9519\n",
            "Data columns (total 8 columns):\n",
            " #   Column        Non-Null Count  Dtype \n",
            "---  ------        --------------  ----- \n",
            " 0   Tipo          9520 non-null   object\n",
            " 1   Descripcion   9520 non-null   object\n",
            " 2   Habitaciones  9520 non-null   int64 \n",
            " 3   Banos         9520 non-null   int64 \n",
            " 4   Area          9520 non-null   int64 \n",
            " 5   Barrio        9520 non-null   object\n",
            " 6   UPZ           9478 non-null   object\n",
            " 7   Valor         9520 non-null   object\n",
            "dtypes: int64(3), object(5)\n",
            "memory usage: 595.1+ KB\n"
          ]
        }
      ]
    },
    {
      "cell_type": "code",
      "source": [
        "inmuebles.iloc[300]"
      ],
      "metadata": {
        "colab": {
          "base_uri": "https://localhost:8080/"
        },
        "id": "YxiIcp3o6yRM",
        "outputId": "26086d63-7d25-45af-b373-5ef850d89467"
      },
      "execution_count": null,
      "outputs": [
        {
          "output_type": "execute_result",
          "data": {
            "text/plain": [
              "Tipo                                Apartamento\n",
              "Descripcion     Apartamento en venta en Kennedy\n",
              "Habitaciones                                  2\n",
              "Banos                                         1\n",
              "Area                                         42\n",
              "Barrio                                  Kennedy\n",
              "UPZ                             Kennedy Central\n",
              "Valor                             $ 116.100.000\n",
              "Name: 300, dtype: object"
            ]
          },
          "metadata": {},
          "execution_count": 9
        }
      ]
    },
    {
      "cell_type": "code",
      "source": [
        "inmuebles.iloc[300:305]"
      ],
      "metadata": {
        "colab": {
          "base_uri": "https://localhost:8080/",
          "height": 443
        },
        "id": "pRo0G9_f6x4i",
        "outputId": "2d64c6d6-28b7-4cfd-e683-1ed25f6a84cd"
      },
      "execution_count": null,
      "outputs": [
        {
          "output_type": "execute_result",
          "data": {
            "text/plain": [
              "            Tipo                          Descripcion  Habitaciones  Banos  \\\n",
              "300  Apartamento      Apartamento en venta en Kennedy             2      1   \n",
              "301  Apartamento  Apartamento en venta en Chico Norte             2      2   \n",
              "302  Apartamento      Apartamento en venta en Kennedy             3      2   \n",
              "303  Apartamento      Apartamento en venta en Kennedy             3      2   \n",
              "304  Apartamento     Apartamento en venta en Cedritos             4      4   \n",
              "\n",
              "     Area       Barrio                                 UPZ          Valor  \n",
              "300    42      Kennedy                     Kennedy Central  $ 116.100.000  \n",
              "301    95  Chico Norte  CHAPINERO: Chicó Lago + El Refugio  $ 980.000.000  \n",
              "302    54      Kennedy                     Kennedy Central  $ 237.000.000  \n",
              "303    67      Kennedy                     Kennedy Central  $ 320.000.000  \n",
              "304   132     Cedritos                             Usaquén  $ 530.000.000  "
            ],
            "text/html": [
              "\n",
              "  <div id=\"df-2f97e559-ef33-4156-9d68-f7b424d22dc6\">\n",
              "    <div class=\"colab-df-container\">\n",
              "      <div>\n",
              "<style scoped>\n",
              "    .dataframe tbody tr th:only-of-type {\n",
              "        vertical-align: middle;\n",
              "    }\n",
              "\n",
              "    .dataframe tbody tr th {\n",
              "        vertical-align: top;\n",
              "    }\n",
              "\n",
              "    .dataframe thead th {\n",
              "        text-align: right;\n",
              "    }\n",
              "</style>\n",
              "<table border=\"1\" class=\"dataframe\">\n",
              "  <thead>\n",
              "    <tr style=\"text-align: right;\">\n",
              "      <th></th>\n",
              "      <th>Tipo</th>\n",
              "      <th>Descripcion</th>\n",
              "      <th>Habitaciones</th>\n",
              "      <th>Banos</th>\n",
              "      <th>Area</th>\n",
              "      <th>Barrio</th>\n",
              "      <th>UPZ</th>\n",
              "      <th>Valor</th>\n",
              "    </tr>\n",
              "  </thead>\n",
              "  <tbody>\n",
              "    <tr>\n",
              "      <th>300</th>\n",
              "      <td>Apartamento</td>\n",
              "      <td>Apartamento en venta en Kennedy</td>\n",
              "      <td>2</td>\n",
              "      <td>1</td>\n",
              "      <td>42</td>\n",
              "      <td>Kennedy</td>\n",
              "      <td>Kennedy Central</td>\n",
              "      <td>$ 116.100.000</td>\n",
              "    </tr>\n",
              "    <tr>\n",
              "      <th>301</th>\n",
              "      <td>Apartamento</td>\n",
              "      <td>Apartamento en venta en Chico Norte</td>\n",
              "      <td>2</td>\n",
              "      <td>2</td>\n",
              "      <td>95</td>\n",
              "      <td>Chico Norte</td>\n",
              "      <td>CHAPINERO: Chicó Lago + El Refugio</td>\n",
              "      <td>$ 980.000.000</td>\n",
              "    </tr>\n",
              "    <tr>\n",
              "      <th>302</th>\n",
              "      <td>Apartamento</td>\n",
              "      <td>Apartamento en venta en Kennedy</td>\n",
              "      <td>3</td>\n",
              "      <td>2</td>\n",
              "      <td>54</td>\n",
              "      <td>Kennedy</td>\n",
              "      <td>Kennedy Central</td>\n",
              "      <td>$ 237.000.000</td>\n",
              "    </tr>\n",
              "    <tr>\n",
              "      <th>303</th>\n",
              "      <td>Apartamento</td>\n",
              "      <td>Apartamento en venta en Kennedy</td>\n",
              "      <td>3</td>\n",
              "      <td>2</td>\n",
              "      <td>67</td>\n",
              "      <td>Kennedy</td>\n",
              "      <td>Kennedy Central</td>\n",
              "      <td>$ 320.000.000</td>\n",
              "    </tr>\n",
              "    <tr>\n",
              "      <th>304</th>\n",
              "      <td>Apartamento</td>\n",
              "      <td>Apartamento en venta en Cedritos</td>\n",
              "      <td>4</td>\n",
              "      <td>4</td>\n",
              "      <td>132</td>\n",
              "      <td>Cedritos</td>\n",
              "      <td>Usaquén</td>\n",
              "      <td>$ 530.000.000</td>\n",
              "    </tr>\n",
              "  </tbody>\n",
              "</table>\n",
              "</div>\n",
              "      <button class=\"colab-df-convert\" onclick=\"convertToInteractive('df-2f97e559-ef33-4156-9d68-f7b424d22dc6')\"\n",
              "              title=\"Convert this dataframe to an interactive table.\"\n",
              "              style=\"display:none;\">\n",
              "        \n",
              "  <svg xmlns=\"http://www.w3.org/2000/svg\" height=\"24px\"viewBox=\"0 0 24 24\"\n",
              "       width=\"24px\">\n",
              "    <path d=\"M0 0h24v24H0V0z\" fill=\"none\"/>\n",
              "    <path d=\"M18.56 5.44l.94 2.06.94-2.06 2.06-.94-2.06-.94-.94-2.06-.94 2.06-2.06.94zm-11 1L8.5 8.5l.94-2.06 2.06-.94-2.06-.94L8.5 2.5l-.94 2.06-2.06.94zm10 10l.94 2.06.94-2.06 2.06-.94-2.06-.94-.94-2.06-.94 2.06-2.06.94z\"/><path d=\"M17.41 7.96l-1.37-1.37c-.4-.4-.92-.59-1.43-.59-.52 0-1.04.2-1.43.59L10.3 9.45l-7.72 7.72c-.78.78-.78 2.05 0 2.83L4 21.41c.39.39.9.59 1.41.59.51 0 1.02-.2 1.41-.59l7.78-7.78 2.81-2.81c.8-.78.8-2.07 0-2.86zM5.41 20L4 18.59l7.72-7.72 1.47 1.35L5.41 20z\"/>\n",
              "  </svg>\n",
              "      </button>\n",
              "      \n",
              "  <style>\n",
              "    .colab-df-container {\n",
              "      display:flex;\n",
              "      flex-wrap:wrap;\n",
              "      gap: 12px;\n",
              "    }\n",
              "\n",
              "    .colab-df-convert {\n",
              "      background-color: #E8F0FE;\n",
              "      border: none;\n",
              "      border-radius: 50%;\n",
              "      cursor: pointer;\n",
              "      display: none;\n",
              "      fill: #1967D2;\n",
              "      height: 32px;\n",
              "      padding: 0 0 0 0;\n",
              "      width: 32px;\n",
              "    }\n",
              "\n",
              "    .colab-df-convert:hover {\n",
              "      background-color: #E2EBFA;\n",
              "      box-shadow: 0px 1px 2px rgba(60, 64, 67, 0.3), 0px 1px 3px 1px rgba(60, 64, 67, 0.15);\n",
              "      fill: #174EA6;\n",
              "    }\n",
              "\n",
              "    [theme=dark] .colab-df-convert {\n",
              "      background-color: #3B4455;\n",
              "      fill: #D2E3FC;\n",
              "    }\n",
              "\n",
              "    [theme=dark] .colab-df-convert:hover {\n",
              "      background-color: #434B5C;\n",
              "      box-shadow: 0px 1px 3px 1px rgba(0, 0, 0, 0.15);\n",
              "      filter: drop-shadow(0px 1px 2px rgba(0, 0, 0, 0.3));\n",
              "      fill: #FFFFFF;\n",
              "    }\n",
              "  </style>\n",
              "\n",
              "      <script>\n",
              "        const buttonEl =\n",
              "          document.querySelector('#df-2f97e559-ef33-4156-9d68-f7b424d22dc6 button.colab-df-convert');\n",
              "        buttonEl.style.display =\n",
              "          google.colab.kernel.accessAllowed ? 'block' : 'none';\n",
              "\n",
              "        async function convertToInteractive(key) {\n",
              "          const element = document.querySelector('#df-2f97e559-ef33-4156-9d68-f7b424d22dc6');\n",
              "          const dataTable =\n",
              "            await google.colab.kernel.invokeFunction('convertToInteractive',\n",
              "                                                     [key], {});\n",
              "          if (!dataTable) return;\n",
              "\n",
              "          const docLinkHtml = 'Like what you see? Visit the ' +\n",
              "            '<a target=\"_blank\" href=https://colab.research.google.com/notebooks/data_table.ipynb>data table notebook</a>'\n",
              "            + ' to learn more about interactive tables.';\n",
              "          element.innerHTML = '';\n",
              "          dataTable['output_type'] = 'display_data';\n",
              "          await google.colab.output.renderOutput(dataTable, element);\n",
              "          const docLink = document.createElement('div');\n",
              "          docLink.innerHTML = docLinkHtml;\n",
              "          element.appendChild(docLink);\n",
              "        }\n",
              "      </script>\n",
              "    </div>\n",
              "  </div>\n",
              "  "
            ]
          },
          "metadata": {},
          "execution_count": 11
        }
      ]
    },
    {
      "cell_type": "code",
      "source": [
        "inmuebles['Valor'][300:305]"
      ],
      "metadata": {
        "colab": {
          "base_uri": "https://localhost:8080/"
        },
        "id": "6wIKNm-h6Fix",
        "outputId": "fe76b2da-569f-4589-99d8-7474775ff2de"
      },
      "execution_count": null,
      "outputs": [
        {
          "output_type": "execute_result",
          "data": {
            "text/plain": [
              "300    $ 116.100.000\n",
              "301    $ 980.000.000\n",
              "302    $ 237.000.000\n",
              "303    $ 320.000.000\n",
              "304    $ 530.000.000\n",
              "Name: Valor, dtype: object"
            ]
          },
          "metadata": {},
          "execution_count": 14
        }
      ]
    },
    {
      "cell_type": "code",
      "source": [
        "type(inmuebles)"
      ],
      "metadata": {
        "colab": {
          "base_uri": "https://localhost:8080/"
        },
        "id": "jyZ7xUmSpeji",
        "outputId": "2616f792-2dfb-4446-f26d-b2ec2ddc5128"
      },
      "execution_count": null,
      "outputs": [
        {
          "output_type": "execute_result",
          "data": {
            "text/plain": [
              "pandas.core.frame.DataFrame"
            ]
          },
          "metadata": {},
          "execution_count": 15
        }
      ]
    },
    {
      "cell_type": "code",
      "source": [
        "type(inmuebles['Valor'][300:305])"
      ],
      "metadata": {
        "colab": {
          "base_uri": "https://localhost:8080/"
        },
        "id": "HfNI9p_ypeus",
        "outputId": "072e4e7f-8249-483d-f2a4-76f7b2f2e4a9"
      },
      "execution_count": null,
      "outputs": [
        {
          "output_type": "execute_result",
          "data": {
            "text/plain": [
              "pandas.core.series.Series"
            ]
          },
          "metadata": {},
          "execution_count": 16
        }
      ]
    },
    {
      "cell_type": "code",
      "source": [
        "inmuebles.Area.mean()\n"
      ],
      "metadata": {
        "colab": {
          "base_uri": "https://localhost:8080/"
        },
        "id": "qY7KzfBfpezt",
        "outputId": "eaebb430-46ca-4707-990e-d89ada641081"
      },
      "execution_count": null,
      "outputs": [
        {
          "output_type": "execute_result",
          "data": {
            "text/plain": [
              "146.66470588235293"
            ]
          },
          "metadata": {},
          "execution_count": 18
        }
      ]
    },
    {
      "cell_type": "code",
      "source": [
        "inmuebles.sample(100)"
      ],
      "metadata": {
        "colab": {
          "base_uri": "https://localhost:8080/",
          "height": 956
        },
        "id": "jThZfjPIvWso",
        "outputId": "d7aab466-2511-4e17-89fc-c5684dfdb6cd"
      },
      "execution_count": null,
      "outputs": [
        {
          "output_type": "execute_result",
          "data": {
            "text/plain": [
              "             Tipo                                 Descripcion  Habitaciones  \\\n",
              "186   Apartamento  Apartamento en venta en Zona Noroccidental             3   \n",
              "854   Apartamento            Apartamento en venta en Cedritos             2   \n",
              "1517         Casa                       Casa en venta en Suba             5   \n",
              "5027  Apartamento  Apartamento en venta en Zona Noroccidental             3   \n",
              "6859         Casa                       Casa en venta en Bosa             7   \n",
              "...           ...                                         ...           ...   \n",
              "3544  Apartamento      Apartamento en venta en Ciudad Salitre             3   \n",
              "3430         Casa                  Casa en venta en Normandia             4   \n",
              "9096  Apartamento             Apartamento en venta en Usaquén             3   \n",
              "8070         Casa              Casa en venta en Puente Aranda             6   \n",
              "8302  Apartamento                Apartamento en venta en Suba             3   \n",
              "\n",
              "      Banos  Area              Barrio  \\\n",
              "186       3   102  Zona Noroccidental   \n",
              "854       2    75            Cedritos   \n",
              "1517      5   500                Suba   \n",
              "5027      2    64  Zona Noroccidental   \n",
              "6859      4   240                Bosa   \n",
              "...     ...   ...                 ...   \n",
              "3544      3    94      Ciudad Salitre   \n",
              "3430      3   238           Normandia   \n",
              "9096      4   320             Usaquén   \n",
              "8070      4   300       Puente Aranda   \n",
              "8302      4   140                Suba   \n",
              "\n",
              "                                                 UPZ            Valor  \n",
              "186               CHAPINERO: Pardo Rubio + Chapinero    $ 600.000.000  \n",
              "854                                          Usaquén    $ 390.000.000  \n",
              "1517                                            Suba  $ 2.300.000.000  \n",
              "5027              CHAPINERO: Pardo Rubio + Chapinero    $ 230.000.000  \n",
              "6859                                    Bosa Central    $ 450.000.000  \n",
              "...                                              ...              ...  \n",
              "3544                         Ciudad Salitre Oriental    $ 570.000.000  \n",
              "3430      ENGATIVÁ: Santa Cecilia + Jardín  Botánico    $ 750.000.000  \n",
              "9096                                         Usaquén  $ 2.200.000.000  \n",
              "8070  PUENTE ARANDA: Zona Industrial + Puente Aranda    $ 800.000.000  \n",
              "8302                                            Suba    $ 999.000.000  \n",
              "\n",
              "[100 rows x 8 columns]"
            ],
            "text/html": [
              "\n",
              "  <div id=\"df-3580dd0f-851e-49ef-9d2e-aa96e8b39a1a\">\n",
              "    <div class=\"colab-df-container\">\n",
              "      <div>\n",
              "<style scoped>\n",
              "    .dataframe tbody tr th:only-of-type {\n",
              "        vertical-align: middle;\n",
              "    }\n",
              "\n",
              "    .dataframe tbody tr th {\n",
              "        vertical-align: top;\n",
              "    }\n",
              "\n",
              "    .dataframe thead th {\n",
              "        text-align: right;\n",
              "    }\n",
              "</style>\n",
              "<table border=\"1\" class=\"dataframe\">\n",
              "  <thead>\n",
              "    <tr style=\"text-align: right;\">\n",
              "      <th></th>\n",
              "      <th>Tipo</th>\n",
              "      <th>Descripcion</th>\n",
              "      <th>Habitaciones</th>\n",
              "      <th>Banos</th>\n",
              "      <th>Area</th>\n",
              "      <th>Barrio</th>\n",
              "      <th>UPZ</th>\n",
              "      <th>Valor</th>\n",
              "    </tr>\n",
              "  </thead>\n",
              "  <tbody>\n",
              "    <tr>\n",
              "      <th>186</th>\n",
              "      <td>Apartamento</td>\n",
              "      <td>Apartamento en venta en Zona Noroccidental</td>\n",
              "      <td>3</td>\n",
              "      <td>3</td>\n",
              "      <td>102</td>\n",
              "      <td>Zona Noroccidental</td>\n",
              "      <td>CHAPINERO: Pardo Rubio + Chapinero</td>\n",
              "      <td>$ 600.000.000</td>\n",
              "    </tr>\n",
              "    <tr>\n",
              "      <th>854</th>\n",
              "      <td>Apartamento</td>\n",
              "      <td>Apartamento en venta en Cedritos</td>\n",
              "      <td>2</td>\n",
              "      <td>2</td>\n",
              "      <td>75</td>\n",
              "      <td>Cedritos</td>\n",
              "      <td>Usaquén</td>\n",
              "      <td>$ 390.000.000</td>\n",
              "    </tr>\n",
              "    <tr>\n",
              "      <th>1517</th>\n",
              "      <td>Casa</td>\n",
              "      <td>Casa en venta en Suba</td>\n",
              "      <td>5</td>\n",
              "      <td>5</td>\n",
              "      <td>500</td>\n",
              "      <td>Suba</td>\n",
              "      <td>Suba</td>\n",
              "      <td>$ 2.300.000.000</td>\n",
              "    </tr>\n",
              "    <tr>\n",
              "      <th>5027</th>\n",
              "      <td>Apartamento</td>\n",
              "      <td>Apartamento en venta en Zona Noroccidental</td>\n",
              "      <td>3</td>\n",
              "      <td>2</td>\n",
              "      <td>64</td>\n",
              "      <td>Zona Noroccidental</td>\n",
              "      <td>CHAPINERO: Pardo Rubio + Chapinero</td>\n",
              "      <td>$ 230.000.000</td>\n",
              "    </tr>\n",
              "    <tr>\n",
              "      <th>6859</th>\n",
              "      <td>Casa</td>\n",
              "      <td>Casa en venta en Bosa</td>\n",
              "      <td>7</td>\n",
              "      <td>4</td>\n",
              "      <td>240</td>\n",
              "      <td>Bosa</td>\n",
              "      <td>Bosa Central</td>\n",
              "      <td>$ 450.000.000</td>\n",
              "    </tr>\n",
              "    <tr>\n",
              "      <th>...</th>\n",
              "      <td>...</td>\n",
              "      <td>...</td>\n",
              "      <td>...</td>\n",
              "      <td>...</td>\n",
              "      <td>...</td>\n",
              "      <td>...</td>\n",
              "      <td>...</td>\n",
              "      <td>...</td>\n",
              "    </tr>\n",
              "    <tr>\n",
              "      <th>3544</th>\n",
              "      <td>Apartamento</td>\n",
              "      <td>Apartamento en venta en Ciudad Salitre</td>\n",
              "      <td>3</td>\n",
              "      <td>3</td>\n",
              "      <td>94</td>\n",
              "      <td>Ciudad Salitre</td>\n",
              "      <td>Ciudad Salitre Oriental</td>\n",
              "      <td>$ 570.000.000</td>\n",
              "    </tr>\n",
              "    <tr>\n",
              "      <th>3430</th>\n",
              "      <td>Casa</td>\n",
              "      <td>Casa en venta en Normandia</td>\n",
              "      <td>4</td>\n",
              "      <td>3</td>\n",
              "      <td>238</td>\n",
              "      <td>Normandia</td>\n",
              "      <td>ENGATIVÁ: Santa Cecilia + Jardín  Botánico</td>\n",
              "      <td>$ 750.000.000</td>\n",
              "    </tr>\n",
              "    <tr>\n",
              "      <th>9096</th>\n",
              "      <td>Apartamento</td>\n",
              "      <td>Apartamento en venta en Usaquén</td>\n",
              "      <td>3</td>\n",
              "      <td>4</td>\n",
              "      <td>320</td>\n",
              "      <td>Usaquén</td>\n",
              "      <td>Usaquén</td>\n",
              "      <td>$ 2.200.000.000</td>\n",
              "    </tr>\n",
              "    <tr>\n",
              "      <th>8070</th>\n",
              "      <td>Casa</td>\n",
              "      <td>Casa en venta en Puente Aranda</td>\n",
              "      <td>6</td>\n",
              "      <td>4</td>\n",
              "      <td>300</td>\n",
              "      <td>Puente Aranda</td>\n",
              "      <td>PUENTE ARANDA: Zona Industrial + Puente Aranda</td>\n",
              "      <td>$ 800.000.000</td>\n",
              "    </tr>\n",
              "    <tr>\n",
              "      <th>8302</th>\n",
              "      <td>Apartamento</td>\n",
              "      <td>Apartamento en venta en Suba</td>\n",
              "      <td>3</td>\n",
              "      <td>4</td>\n",
              "      <td>140</td>\n",
              "      <td>Suba</td>\n",
              "      <td>Suba</td>\n",
              "      <td>$ 999.000.000</td>\n",
              "    </tr>\n",
              "  </tbody>\n",
              "</table>\n",
              "<p>100 rows × 8 columns</p>\n",
              "</div>\n",
              "      <button class=\"colab-df-convert\" onclick=\"convertToInteractive('df-3580dd0f-851e-49ef-9d2e-aa96e8b39a1a')\"\n",
              "              title=\"Convert this dataframe to an interactive table.\"\n",
              "              style=\"display:none;\">\n",
              "        \n",
              "  <svg xmlns=\"http://www.w3.org/2000/svg\" height=\"24px\"viewBox=\"0 0 24 24\"\n",
              "       width=\"24px\">\n",
              "    <path d=\"M0 0h24v24H0V0z\" fill=\"none\"/>\n",
              "    <path d=\"M18.56 5.44l.94 2.06.94-2.06 2.06-.94-2.06-.94-.94-2.06-.94 2.06-2.06.94zm-11 1L8.5 8.5l.94-2.06 2.06-.94-2.06-.94L8.5 2.5l-.94 2.06-2.06.94zm10 10l.94 2.06.94-2.06 2.06-.94-2.06-.94-.94-2.06-.94 2.06-2.06.94z\"/><path d=\"M17.41 7.96l-1.37-1.37c-.4-.4-.92-.59-1.43-.59-.52 0-1.04.2-1.43.59L10.3 9.45l-7.72 7.72c-.78.78-.78 2.05 0 2.83L4 21.41c.39.39.9.59 1.41.59.51 0 1.02-.2 1.41-.59l7.78-7.78 2.81-2.81c.8-.78.8-2.07 0-2.86zM5.41 20L4 18.59l7.72-7.72 1.47 1.35L5.41 20z\"/>\n",
              "  </svg>\n",
              "      </button>\n",
              "      \n",
              "  <style>\n",
              "    .colab-df-container {\n",
              "      display:flex;\n",
              "      flex-wrap:wrap;\n",
              "      gap: 12px;\n",
              "    }\n",
              "\n",
              "    .colab-df-convert {\n",
              "      background-color: #E8F0FE;\n",
              "      border: none;\n",
              "      border-radius: 50%;\n",
              "      cursor: pointer;\n",
              "      display: none;\n",
              "      fill: #1967D2;\n",
              "      height: 32px;\n",
              "      padding: 0 0 0 0;\n",
              "      width: 32px;\n",
              "    }\n",
              "\n",
              "    .colab-df-convert:hover {\n",
              "      background-color: #E2EBFA;\n",
              "      box-shadow: 0px 1px 2px rgba(60, 64, 67, 0.3), 0px 1px 3px 1px rgba(60, 64, 67, 0.15);\n",
              "      fill: #174EA6;\n",
              "    }\n",
              "\n",
              "    [theme=dark] .colab-df-convert {\n",
              "      background-color: #3B4455;\n",
              "      fill: #D2E3FC;\n",
              "    }\n",
              "\n",
              "    [theme=dark] .colab-df-convert:hover {\n",
              "      background-color: #434B5C;\n",
              "      box-shadow: 0px 1px 3px 1px rgba(0, 0, 0, 0.15);\n",
              "      filter: drop-shadow(0px 1px 2px rgba(0, 0, 0, 0.3));\n",
              "      fill: #FFFFFF;\n",
              "    }\n",
              "  </style>\n",
              "\n",
              "      <script>\n",
              "        const buttonEl =\n",
              "          document.querySelector('#df-3580dd0f-851e-49ef-9d2e-aa96e8b39a1a button.colab-df-convert');\n",
              "        buttonEl.style.display =\n",
              "          google.colab.kernel.accessAllowed ? 'block' : 'none';\n",
              "\n",
              "        async function convertToInteractive(key) {\n",
              "          const element = document.querySelector('#df-3580dd0f-851e-49ef-9d2e-aa96e8b39a1a');\n",
              "          const dataTable =\n",
              "            await google.colab.kernel.invokeFunction('convertToInteractive',\n",
              "                                                     [key], {});\n",
              "          if (!dataTable) return;\n",
              "\n",
              "          const docLinkHtml = 'Like what you see? Visit the ' +\n",
              "            '<a target=\"_blank\" href=https://colab.research.google.com/notebooks/data_table.ipynb>data table notebook</a>'\n",
              "            + ' to learn more about interactive tables.';\n",
              "          element.innerHTML = '';\n",
              "          dataTable['output_type'] = 'display_data';\n",
              "          await google.colab.output.renderOutput(dataTable, element);\n",
              "          const docLink = document.createElement('div');\n",
              "          docLink.innerHTML = docLinkHtml;\n",
              "          element.appendChild(docLink);\n",
              "        }\n",
              "      </script>\n",
              "    </div>\n",
              "  </div>\n",
              "  "
            ]
          },
          "metadata": {},
          "execution_count": 19
        }
      ]
    },
    {
      "cell_type": "code",
      "source": [
        "inmuebles.Barrio == 'Chico Reservado'\n",
        "\n",
        "sum(inmuebles.Barrio == 'Chico Reservado')"
      ],
      "metadata": {
        "colab": {
          "base_uri": "https://localhost:8080/"
        },
        "id": "3N50b1A2vXIj",
        "outputId": "94ef5ce5-fc85-42bb-ff7e-5b9f2dc80baf"
      },
      "execution_count": null,
      "outputs": [
        {
          "output_type": "execute_result",
          "data": {
            "text/plain": [
              "225"
            ]
          },
          "metadata": {},
          "execution_count": 22
        }
      ]
    },
    {
      "cell_type": "code",
      "source": [
        "inmuebles_chico = inmuebles.Barrio == 'Chico Reservado'\n",
        "inmuebles_chico"
      ],
      "metadata": {
        "colab": {
          "base_uri": "https://localhost:8080/"
        },
        "id": "2sqC0NV-tLu9",
        "outputId": "3113f456-806c-4533-9073-9a5fb63ed231"
      },
      "execution_count": null,
      "outputs": [
        {
          "output_type": "execute_result",
          "data": {
            "text/plain": [
              "0       False\n",
              "1       False\n",
              "2        True\n",
              "3       False\n",
              "4       False\n",
              "        ...  \n",
              "9515    False\n",
              "9516    False\n",
              "9517    False\n",
              "9518    False\n",
              "9519    False\n",
              "Name: Barrio, Length: 9520, dtype: bool"
            ]
          },
          "metadata": {},
          "execution_count": 24
        }
      ]
    },
    {
      "cell_type": "code",
      "source": [
        "chico = inmuebles[inmuebles_chico]\n",
        "\n",
        "chico\n"
      ],
      "metadata": {
        "colab": {
          "base_uri": "https://localhost:8080/",
          "height": 1000
        },
        "id": "C8NnPciUtL5W",
        "outputId": "a48730f6-1de6-47ea-a659-7d4ca376fda5"
      },
      "execution_count": null,
      "outputs": [
        {
          "output_type": "execute_result",
          "data": {
            "text/plain": [
              "             Tipo                              Descripcion  Habitaciones  \\\n",
              "2     Apartamento  Apartamento en venta en Chico Reservado             3   \n",
              "39    Apartamento  Apartamento en venta en Chico Reservado             1   \n",
              "72    Apartamento  Apartamento en venta en Chico Reservado             1   \n",
              "126   Apartamento  Apartamento en venta en Chico Reservado             3   \n",
              "143   Apartamento  Apartamento en venta en Chico Reservado             2   \n",
              "...           ...                                      ...           ...   \n",
              "9299  Apartamento  Apartamento en venta en Chico Reservado             3   \n",
              "9335  Apartamento  Apartamento en venta en Chico Reservado             3   \n",
              "9341  Apartamento  Apartamento en venta en Chico Reservado             2   \n",
              "9472  Apartamento  Apartamento en venta en Chico Reservado             3   \n",
              "9506  Apartamento  Apartamento en venta en Chico Reservado             3   \n",
              "\n",
              "      Banos  Area           Barrio                                 UPZ  \\\n",
              "2         3   144  Chico Reservado  CHAPINERO: Chicó Lago + El Refugio   \n",
              "39        1    64  Chico Reservado  CHAPINERO: Chicó Lago + El Refugio   \n",
              "72        1    64  Chico Reservado  CHAPINERO: Chicó Lago + El Refugio   \n",
              "126       4   150  Chico Reservado  CHAPINERO: Chicó Lago + El Refugio   \n",
              "143       4   104  Chico Reservado  CHAPINERO: Chicó Lago + El Refugio   \n",
              "...     ...   ...              ...                                 ...   \n",
              "9299      3   148  Chico Reservado  CHAPINERO: Chicó Lago + El Refugio   \n",
              "9335      3   176  Chico Reservado  CHAPINERO: Chicó Lago + El Refugio   \n",
              "9341      3   118  Chico Reservado  CHAPINERO: Chicó Lago + El Refugio   \n",
              "9472      1    49  Chico Reservado  CHAPINERO: Chicó Lago + El Refugio   \n",
              "9506      4   390  Chico Reservado  CHAPINERO: Chicó Lago + El Refugio   \n",
              "\n",
              "                Valor  \n",
              "2     $ 1.120.000.000  \n",
              "39      $ 495.000.000  \n",
              "72      $ 495.000.000  \n",
              "126   $ 1.300.000.000  \n",
              "143   $ 1.100.000.000  \n",
              "...               ...  \n",
              "9299    $ 780.000.000  \n",
              "9335    $ 850.000.000  \n",
              "9341    $ 700.000.000  \n",
              "9472    $ 200.000.000  \n",
              "9506  $ 3.200.000.000  \n",
              "\n",
              "[225 rows x 8 columns]"
            ],
            "text/html": [
              "\n",
              "  <div id=\"df-8867b747-adbc-4b4e-a1bc-95645a1255cf\">\n",
              "    <div class=\"colab-df-container\">\n",
              "      <div>\n",
              "<style scoped>\n",
              "    .dataframe tbody tr th:only-of-type {\n",
              "        vertical-align: middle;\n",
              "    }\n",
              "\n",
              "    .dataframe tbody tr th {\n",
              "        vertical-align: top;\n",
              "    }\n",
              "\n",
              "    .dataframe thead th {\n",
              "        text-align: right;\n",
              "    }\n",
              "</style>\n",
              "<table border=\"1\" class=\"dataframe\">\n",
              "  <thead>\n",
              "    <tr style=\"text-align: right;\">\n",
              "      <th></th>\n",
              "      <th>Tipo</th>\n",
              "      <th>Descripcion</th>\n",
              "      <th>Habitaciones</th>\n",
              "      <th>Banos</th>\n",
              "      <th>Area</th>\n",
              "      <th>Barrio</th>\n",
              "      <th>UPZ</th>\n",
              "      <th>Valor</th>\n",
              "    </tr>\n",
              "  </thead>\n",
              "  <tbody>\n",
              "    <tr>\n",
              "      <th>2</th>\n",
              "      <td>Apartamento</td>\n",
              "      <td>Apartamento en venta en Chico Reservado</td>\n",
              "      <td>3</td>\n",
              "      <td>3</td>\n",
              "      <td>144</td>\n",
              "      <td>Chico Reservado</td>\n",
              "      <td>CHAPINERO: Chicó Lago + El Refugio</td>\n",
              "      <td>$ 1.120.000.000</td>\n",
              "    </tr>\n",
              "    <tr>\n",
              "      <th>39</th>\n",
              "      <td>Apartamento</td>\n",
              "      <td>Apartamento en venta en Chico Reservado</td>\n",
              "      <td>1</td>\n",
              "      <td>1</td>\n",
              "      <td>64</td>\n",
              "      <td>Chico Reservado</td>\n",
              "      <td>CHAPINERO: Chicó Lago + El Refugio</td>\n",
              "      <td>$ 495.000.000</td>\n",
              "    </tr>\n",
              "    <tr>\n",
              "      <th>72</th>\n",
              "      <td>Apartamento</td>\n",
              "      <td>Apartamento en venta en Chico Reservado</td>\n",
              "      <td>1</td>\n",
              "      <td>1</td>\n",
              "      <td>64</td>\n",
              "      <td>Chico Reservado</td>\n",
              "      <td>CHAPINERO: Chicó Lago + El Refugio</td>\n",
              "      <td>$ 495.000.000</td>\n",
              "    </tr>\n",
              "    <tr>\n",
              "      <th>126</th>\n",
              "      <td>Apartamento</td>\n",
              "      <td>Apartamento en venta en Chico Reservado</td>\n",
              "      <td>3</td>\n",
              "      <td>4</td>\n",
              "      <td>150</td>\n",
              "      <td>Chico Reservado</td>\n",
              "      <td>CHAPINERO: Chicó Lago + El Refugio</td>\n",
              "      <td>$ 1.300.000.000</td>\n",
              "    </tr>\n",
              "    <tr>\n",
              "      <th>143</th>\n",
              "      <td>Apartamento</td>\n",
              "      <td>Apartamento en venta en Chico Reservado</td>\n",
              "      <td>2</td>\n",
              "      <td>4</td>\n",
              "      <td>104</td>\n",
              "      <td>Chico Reservado</td>\n",
              "      <td>CHAPINERO: Chicó Lago + El Refugio</td>\n",
              "      <td>$ 1.100.000.000</td>\n",
              "    </tr>\n",
              "    <tr>\n",
              "      <th>...</th>\n",
              "      <td>...</td>\n",
              "      <td>...</td>\n",
              "      <td>...</td>\n",
              "      <td>...</td>\n",
              "      <td>...</td>\n",
              "      <td>...</td>\n",
              "      <td>...</td>\n",
              "      <td>...</td>\n",
              "    </tr>\n",
              "    <tr>\n",
              "      <th>9299</th>\n",
              "      <td>Apartamento</td>\n",
              "      <td>Apartamento en venta en Chico Reservado</td>\n",
              "      <td>3</td>\n",
              "      <td>3</td>\n",
              "      <td>148</td>\n",
              "      <td>Chico Reservado</td>\n",
              "      <td>CHAPINERO: Chicó Lago + El Refugio</td>\n",
              "      <td>$ 780.000.000</td>\n",
              "    </tr>\n",
              "    <tr>\n",
              "      <th>9335</th>\n",
              "      <td>Apartamento</td>\n",
              "      <td>Apartamento en venta en Chico Reservado</td>\n",
              "      <td>3</td>\n",
              "      <td>3</td>\n",
              "      <td>176</td>\n",
              "      <td>Chico Reservado</td>\n",
              "      <td>CHAPINERO: Chicó Lago + El Refugio</td>\n",
              "      <td>$ 850.000.000</td>\n",
              "    </tr>\n",
              "    <tr>\n",
              "      <th>9341</th>\n",
              "      <td>Apartamento</td>\n",
              "      <td>Apartamento en venta en Chico Reservado</td>\n",
              "      <td>2</td>\n",
              "      <td>3</td>\n",
              "      <td>118</td>\n",
              "      <td>Chico Reservado</td>\n",
              "      <td>CHAPINERO: Chicó Lago + El Refugio</td>\n",
              "      <td>$ 700.000.000</td>\n",
              "    </tr>\n",
              "    <tr>\n",
              "      <th>9472</th>\n",
              "      <td>Apartamento</td>\n",
              "      <td>Apartamento en venta en Chico Reservado</td>\n",
              "      <td>3</td>\n",
              "      <td>1</td>\n",
              "      <td>49</td>\n",
              "      <td>Chico Reservado</td>\n",
              "      <td>CHAPINERO: Chicó Lago + El Refugio</td>\n",
              "      <td>$ 200.000.000</td>\n",
              "    </tr>\n",
              "    <tr>\n",
              "      <th>9506</th>\n",
              "      <td>Apartamento</td>\n",
              "      <td>Apartamento en venta en Chico Reservado</td>\n",
              "      <td>3</td>\n",
              "      <td>4</td>\n",
              "      <td>390</td>\n",
              "      <td>Chico Reservado</td>\n",
              "      <td>CHAPINERO: Chicó Lago + El Refugio</td>\n",
              "      <td>$ 3.200.000.000</td>\n",
              "    </tr>\n",
              "  </tbody>\n",
              "</table>\n",
              "<p>225 rows × 8 columns</p>\n",
              "</div>\n",
              "      <button class=\"colab-df-convert\" onclick=\"convertToInteractive('df-8867b747-adbc-4b4e-a1bc-95645a1255cf')\"\n",
              "              title=\"Convert this dataframe to an interactive table.\"\n",
              "              style=\"display:none;\">\n",
              "        \n",
              "  <svg xmlns=\"http://www.w3.org/2000/svg\" height=\"24px\"viewBox=\"0 0 24 24\"\n",
              "       width=\"24px\">\n",
              "    <path d=\"M0 0h24v24H0V0z\" fill=\"none\"/>\n",
              "    <path d=\"M18.56 5.44l.94 2.06.94-2.06 2.06-.94-2.06-.94-.94-2.06-.94 2.06-2.06.94zm-11 1L8.5 8.5l.94-2.06 2.06-.94-2.06-.94L8.5 2.5l-.94 2.06-2.06.94zm10 10l.94 2.06.94-2.06 2.06-.94-2.06-.94-.94-2.06-.94 2.06-2.06.94z\"/><path d=\"M17.41 7.96l-1.37-1.37c-.4-.4-.92-.59-1.43-.59-.52 0-1.04.2-1.43.59L10.3 9.45l-7.72 7.72c-.78.78-.78 2.05 0 2.83L4 21.41c.39.39.9.59 1.41.59.51 0 1.02-.2 1.41-.59l7.78-7.78 2.81-2.81c.8-.78.8-2.07 0-2.86zM5.41 20L4 18.59l7.72-7.72 1.47 1.35L5.41 20z\"/>\n",
              "  </svg>\n",
              "      </button>\n",
              "      \n",
              "  <style>\n",
              "    .colab-df-container {\n",
              "      display:flex;\n",
              "      flex-wrap:wrap;\n",
              "      gap: 12px;\n",
              "    }\n",
              "\n",
              "    .colab-df-convert {\n",
              "      background-color: #E8F0FE;\n",
              "      border: none;\n",
              "      border-radius: 50%;\n",
              "      cursor: pointer;\n",
              "      display: none;\n",
              "      fill: #1967D2;\n",
              "      height: 32px;\n",
              "      padding: 0 0 0 0;\n",
              "      width: 32px;\n",
              "    }\n",
              "\n",
              "    .colab-df-convert:hover {\n",
              "      background-color: #E2EBFA;\n",
              "      box-shadow: 0px 1px 2px rgba(60, 64, 67, 0.3), 0px 1px 3px 1px rgba(60, 64, 67, 0.15);\n",
              "      fill: #174EA6;\n",
              "    }\n",
              "\n",
              "    [theme=dark] .colab-df-convert {\n",
              "      background-color: #3B4455;\n",
              "      fill: #D2E3FC;\n",
              "    }\n",
              "\n",
              "    [theme=dark] .colab-df-convert:hover {\n",
              "      background-color: #434B5C;\n",
              "      box-shadow: 0px 1px 3px 1px rgba(0, 0, 0, 0.15);\n",
              "      filter: drop-shadow(0px 1px 2px rgba(0, 0, 0, 0.3));\n",
              "      fill: #FFFFFF;\n",
              "    }\n",
              "  </style>\n",
              "\n",
              "      <script>\n",
              "        const buttonEl =\n",
              "          document.querySelector('#df-8867b747-adbc-4b4e-a1bc-95645a1255cf button.colab-df-convert');\n",
              "        buttonEl.style.display =\n",
              "          google.colab.kernel.accessAllowed ? 'block' : 'none';\n",
              "\n",
              "        async function convertToInteractive(key) {\n",
              "          const element = document.querySelector('#df-8867b747-adbc-4b4e-a1bc-95645a1255cf');\n",
              "          const dataTable =\n",
              "            await google.colab.kernel.invokeFunction('convertToInteractive',\n",
              "                                                     [key], {});\n",
              "          if (!dataTable) return;\n",
              "\n",
              "          const docLinkHtml = 'Like what you see? Visit the ' +\n",
              "            '<a target=\"_blank\" href=https://colab.research.google.com/notebooks/data_table.ipynb>data table notebook</a>'\n",
              "            + ' to learn more about interactive tables.';\n",
              "          element.innerHTML = '';\n",
              "          dataTable['output_type'] = 'display_data';\n",
              "          await google.colab.output.renderOutput(dataTable, element);\n",
              "          const docLink = document.createElement('div');\n",
              "          docLink.innerHTML = docLinkHtml;\n",
              "          element.appendChild(docLink);\n",
              "        }\n",
              "      </script>\n",
              "    </div>\n",
              "  </div>\n",
              "  "
            ]
          },
          "metadata": {},
          "execution_count": 25
        }
      ]
    },
    {
      "cell_type": "code",
      "source": [
        "chico_r = inmuebles[inmuebles.Barrio == 'Chico Reservado']"
      ],
      "metadata": {
        "id": "Gtn5FLY5tMBP"
      },
      "execution_count": null,
      "outputs": []
    },
    {
      "cell_type": "code",
      "source": [
        "chico_r"
      ],
      "metadata": {
        "colab": {
          "base_uri": "https://localhost:8080/",
          "height": 1000
        },
        "id": "JlrXMgOAtMH_",
        "outputId": "de7a45fc-bdb2-4a36-99f9-8e197ca9d4ec"
      },
      "execution_count": null,
      "outputs": [
        {
          "output_type": "execute_result",
          "data": {
            "text/plain": [
              "             Tipo                              Descripcion  Habitaciones  \\\n",
              "2     Apartamento  Apartamento en venta en Chico Reservado             3   \n",
              "39    Apartamento  Apartamento en venta en Chico Reservado             1   \n",
              "72    Apartamento  Apartamento en venta en Chico Reservado             1   \n",
              "126   Apartamento  Apartamento en venta en Chico Reservado             3   \n",
              "143   Apartamento  Apartamento en venta en Chico Reservado             2   \n",
              "...           ...                                      ...           ...   \n",
              "9299  Apartamento  Apartamento en venta en Chico Reservado             3   \n",
              "9335  Apartamento  Apartamento en venta en Chico Reservado             3   \n",
              "9341  Apartamento  Apartamento en venta en Chico Reservado             2   \n",
              "9472  Apartamento  Apartamento en venta en Chico Reservado             3   \n",
              "9506  Apartamento  Apartamento en venta en Chico Reservado             3   \n",
              "\n",
              "      Banos  Area           Barrio                                 UPZ  \\\n",
              "2         3   144  Chico Reservado  CHAPINERO: Chicó Lago + El Refugio   \n",
              "39        1    64  Chico Reservado  CHAPINERO: Chicó Lago + El Refugio   \n",
              "72        1    64  Chico Reservado  CHAPINERO: Chicó Lago + El Refugio   \n",
              "126       4   150  Chico Reservado  CHAPINERO: Chicó Lago + El Refugio   \n",
              "143       4   104  Chico Reservado  CHAPINERO: Chicó Lago + El Refugio   \n",
              "...     ...   ...              ...                                 ...   \n",
              "9299      3   148  Chico Reservado  CHAPINERO: Chicó Lago + El Refugio   \n",
              "9335      3   176  Chico Reservado  CHAPINERO: Chicó Lago + El Refugio   \n",
              "9341      3   118  Chico Reservado  CHAPINERO: Chicó Lago + El Refugio   \n",
              "9472      1    49  Chico Reservado  CHAPINERO: Chicó Lago + El Refugio   \n",
              "9506      4   390  Chico Reservado  CHAPINERO: Chicó Lago + El Refugio   \n",
              "\n",
              "                Valor  \n",
              "2     $ 1.120.000.000  \n",
              "39      $ 495.000.000  \n",
              "72      $ 495.000.000  \n",
              "126   $ 1.300.000.000  \n",
              "143   $ 1.100.000.000  \n",
              "...               ...  \n",
              "9299    $ 780.000.000  \n",
              "9335    $ 850.000.000  \n",
              "9341    $ 700.000.000  \n",
              "9472    $ 200.000.000  \n",
              "9506  $ 3.200.000.000  \n",
              "\n",
              "[225 rows x 8 columns]"
            ],
            "text/html": [
              "\n",
              "  <div id=\"df-cb7a7972-b2ff-4cad-a787-5683dee38071\">\n",
              "    <div class=\"colab-df-container\">\n",
              "      <div>\n",
              "<style scoped>\n",
              "    .dataframe tbody tr th:only-of-type {\n",
              "        vertical-align: middle;\n",
              "    }\n",
              "\n",
              "    .dataframe tbody tr th {\n",
              "        vertical-align: top;\n",
              "    }\n",
              "\n",
              "    .dataframe thead th {\n",
              "        text-align: right;\n",
              "    }\n",
              "</style>\n",
              "<table border=\"1\" class=\"dataframe\">\n",
              "  <thead>\n",
              "    <tr style=\"text-align: right;\">\n",
              "      <th></th>\n",
              "      <th>Tipo</th>\n",
              "      <th>Descripcion</th>\n",
              "      <th>Habitaciones</th>\n",
              "      <th>Banos</th>\n",
              "      <th>Area</th>\n",
              "      <th>Barrio</th>\n",
              "      <th>UPZ</th>\n",
              "      <th>Valor</th>\n",
              "    </tr>\n",
              "  </thead>\n",
              "  <tbody>\n",
              "    <tr>\n",
              "      <th>2</th>\n",
              "      <td>Apartamento</td>\n",
              "      <td>Apartamento en venta en Chico Reservado</td>\n",
              "      <td>3</td>\n",
              "      <td>3</td>\n",
              "      <td>144</td>\n",
              "      <td>Chico Reservado</td>\n",
              "      <td>CHAPINERO: Chicó Lago + El Refugio</td>\n",
              "      <td>$ 1.120.000.000</td>\n",
              "    </tr>\n",
              "    <tr>\n",
              "      <th>39</th>\n",
              "      <td>Apartamento</td>\n",
              "      <td>Apartamento en venta en Chico Reservado</td>\n",
              "      <td>1</td>\n",
              "      <td>1</td>\n",
              "      <td>64</td>\n",
              "      <td>Chico Reservado</td>\n",
              "      <td>CHAPINERO: Chicó Lago + El Refugio</td>\n",
              "      <td>$ 495.000.000</td>\n",
              "    </tr>\n",
              "    <tr>\n",
              "      <th>72</th>\n",
              "      <td>Apartamento</td>\n",
              "      <td>Apartamento en venta en Chico Reservado</td>\n",
              "      <td>1</td>\n",
              "      <td>1</td>\n",
              "      <td>64</td>\n",
              "      <td>Chico Reservado</td>\n",
              "      <td>CHAPINERO: Chicó Lago + El Refugio</td>\n",
              "      <td>$ 495.000.000</td>\n",
              "    </tr>\n",
              "    <tr>\n",
              "      <th>126</th>\n",
              "      <td>Apartamento</td>\n",
              "      <td>Apartamento en venta en Chico Reservado</td>\n",
              "      <td>3</td>\n",
              "      <td>4</td>\n",
              "      <td>150</td>\n",
              "      <td>Chico Reservado</td>\n",
              "      <td>CHAPINERO: Chicó Lago + El Refugio</td>\n",
              "      <td>$ 1.300.000.000</td>\n",
              "    </tr>\n",
              "    <tr>\n",
              "      <th>143</th>\n",
              "      <td>Apartamento</td>\n",
              "      <td>Apartamento en venta en Chico Reservado</td>\n",
              "      <td>2</td>\n",
              "      <td>4</td>\n",
              "      <td>104</td>\n",
              "      <td>Chico Reservado</td>\n",
              "      <td>CHAPINERO: Chicó Lago + El Refugio</td>\n",
              "      <td>$ 1.100.000.000</td>\n",
              "    </tr>\n",
              "    <tr>\n",
              "      <th>...</th>\n",
              "      <td>...</td>\n",
              "      <td>...</td>\n",
              "      <td>...</td>\n",
              "      <td>...</td>\n",
              "      <td>...</td>\n",
              "      <td>...</td>\n",
              "      <td>...</td>\n",
              "      <td>...</td>\n",
              "    </tr>\n",
              "    <tr>\n",
              "      <th>9299</th>\n",
              "      <td>Apartamento</td>\n",
              "      <td>Apartamento en venta en Chico Reservado</td>\n",
              "      <td>3</td>\n",
              "      <td>3</td>\n",
              "      <td>148</td>\n",
              "      <td>Chico Reservado</td>\n",
              "      <td>CHAPINERO: Chicó Lago + El Refugio</td>\n",
              "      <td>$ 780.000.000</td>\n",
              "    </tr>\n",
              "    <tr>\n",
              "      <th>9335</th>\n",
              "      <td>Apartamento</td>\n",
              "      <td>Apartamento en venta en Chico Reservado</td>\n",
              "      <td>3</td>\n",
              "      <td>3</td>\n",
              "      <td>176</td>\n",
              "      <td>Chico Reservado</td>\n",
              "      <td>CHAPINERO: Chicó Lago + El Refugio</td>\n",
              "      <td>$ 850.000.000</td>\n",
              "    </tr>\n",
              "    <tr>\n",
              "      <th>9341</th>\n",
              "      <td>Apartamento</td>\n",
              "      <td>Apartamento en venta en Chico Reservado</td>\n",
              "      <td>2</td>\n",
              "      <td>3</td>\n",
              "      <td>118</td>\n",
              "      <td>Chico Reservado</td>\n",
              "      <td>CHAPINERO: Chicó Lago + El Refugio</td>\n",
              "      <td>$ 700.000.000</td>\n",
              "    </tr>\n",
              "    <tr>\n",
              "      <th>9472</th>\n",
              "      <td>Apartamento</td>\n",
              "      <td>Apartamento en venta en Chico Reservado</td>\n",
              "      <td>3</td>\n",
              "      <td>1</td>\n",
              "      <td>49</td>\n",
              "      <td>Chico Reservado</td>\n",
              "      <td>CHAPINERO: Chicó Lago + El Refugio</td>\n",
              "      <td>$ 200.000.000</td>\n",
              "    </tr>\n",
              "    <tr>\n",
              "      <th>9506</th>\n",
              "      <td>Apartamento</td>\n",
              "      <td>Apartamento en venta en Chico Reservado</td>\n",
              "      <td>3</td>\n",
              "      <td>4</td>\n",
              "      <td>390</td>\n",
              "      <td>Chico Reservado</td>\n",
              "      <td>CHAPINERO: Chicó Lago + El Refugio</td>\n",
              "      <td>$ 3.200.000.000</td>\n",
              "    </tr>\n",
              "  </tbody>\n",
              "</table>\n",
              "<p>225 rows × 8 columns</p>\n",
              "</div>\n",
              "      <button class=\"colab-df-convert\" onclick=\"convertToInteractive('df-cb7a7972-b2ff-4cad-a787-5683dee38071')\"\n",
              "              title=\"Convert this dataframe to an interactive table.\"\n",
              "              style=\"display:none;\">\n",
              "        \n",
              "  <svg xmlns=\"http://www.w3.org/2000/svg\" height=\"24px\"viewBox=\"0 0 24 24\"\n",
              "       width=\"24px\">\n",
              "    <path d=\"M0 0h24v24H0V0z\" fill=\"none\"/>\n",
              "    <path d=\"M18.56 5.44l.94 2.06.94-2.06 2.06-.94-2.06-.94-.94-2.06-.94 2.06-2.06.94zm-11 1L8.5 8.5l.94-2.06 2.06-.94-2.06-.94L8.5 2.5l-.94 2.06-2.06.94zm10 10l.94 2.06.94-2.06 2.06-.94-2.06-.94-.94-2.06-.94 2.06-2.06.94z\"/><path d=\"M17.41 7.96l-1.37-1.37c-.4-.4-.92-.59-1.43-.59-.52 0-1.04.2-1.43.59L10.3 9.45l-7.72 7.72c-.78.78-.78 2.05 0 2.83L4 21.41c.39.39.9.59 1.41.59.51 0 1.02-.2 1.41-.59l7.78-7.78 2.81-2.81c.8-.78.8-2.07 0-2.86zM5.41 20L4 18.59l7.72-7.72 1.47 1.35L5.41 20z\"/>\n",
              "  </svg>\n",
              "      </button>\n",
              "      \n",
              "  <style>\n",
              "    .colab-df-container {\n",
              "      display:flex;\n",
              "      flex-wrap:wrap;\n",
              "      gap: 12px;\n",
              "    }\n",
              "\n",
              "    .colab-df-convert {\n",
              "      background-color: #E8F0FE;\n",
              "      border: none;\n",
              "      border-radius: 50%;\n",
              "      cursor: pointer;\n",
              "      display: none;\n",
              "      fill: #1967D2;\n",
              "      height: 32px;\n",
              "      padding: 0 0 0 0;\n",
              "      width: 32px;\n",
              "    }\n",
              "\n",
              "    .colab-df-convert:hover {\n",
              "      background-color: #E2EBFA;\n",
              "      box-shadow: 0px 1px 2px rgba(60, 64, 67, 0.3), 0px 1px 3px 1px rgba(60, 64, 67, 0.15);\n",
              "      fill: #174EA6;\n",
              "    }\n",
              "\n",
              "    [theme=dark] .colab-df-convert {\n",
              "      background-color: #3B4455;\n",
              "      fill: #D2E3FC;\n",
              "    }\n",
              "\n",
              "    [theme=dark] .colab-df-convert:hover {\n",
              "      background-color: #434B5C;\n",
              "      box-shadow: 0px 1px 3px 1px rgba(0, 0, 0, 0.15);\n",
              "      filter: drop-shadow(0px 1px 2px rgba(0, 0, 0, 0.3));\n",
              "      fill: #FFFFFF;\n",
              "    }\n",
              "  </style>\n",
              "\n",
              "      <script>\n",
              "        const buttonEl =\n",
              "          document.querySelector('#df-cb7a7972-b2ff-4cad-a787-5683dee38071 button.colab-df-convert');\n",
              "        buttonEl.style.display =\n",
              "          google.colab.kernel.accessAllowed ? 'block' : 'none';\n",
              "\n",
              "        async function convertToInteractive(key) {\n",
              "          const element = document.querySelector('#df-cb7a7972-b2ff-4cad-a787-5683dee38071');\n",
              "          const dataTable =\n",
              "            await google.colab.kernel.invokeFunction('convertToInteractive',\n",
              "                                                     [key], {});\n",
              "          if (!dataTable) return;\n",
              "\n",
              "          const docLinkHtml = 'Like what you see? Visit the ' +\n",
              "            '<a target=\"_blank\" href=https://colab.research.google.com/notebooks/data_table.ipynb>data table notebook</a>'\n",
              "            + ' to learn more about interactive tables.';\n",
              "          element.innerHTML = '';\n",
              "          dataTable['output_type'] = 'display_data';\n",
              "          await google.colab.output.renderOutput(dataTable, element);\n",
              "          const docLink = document.createElement('div');\n",
              "          docLink.innerHTML = docLinkHtml;\n",
              "          element.appendChild(docLink);\n",
              "        }\n",
              "      </script>\n",
              "    </div>\n",
              "  </div>\n",
              "  "
            ]
          },
          "metadata": {},
          "execution_count": 27
        }
      ]
    },
    {
      "cell_type": "code",
      "source": [
        "chico.Area.mean()"
      ],
      "metadata": {
        "colab": {
          "base_uri": "https://localhost:8080/"
        },
        "id": "PdHuxmufpe3T",
        "outputId": "090bdc1d-f7d6-4709-a6c9-4a3fef917d33"
      },
      "execution_count": null,
      "outputs": [
        {
          "output_type": "execute_result",
          "data": {
            "text/plain": [
              "142.78666666666666"
            ]
          },
          "metadata": {},
          "execution_count": 28
        }
      ]
    },
    {
      "cell_type": "code",
      "source": [
        "len(inmuebles.Barrio.value_counts())"
      ],
      "metadata": {
        "colab": {
          "base_uri": "https://localhost:8080/"
        },
        "id": "zV3O19pP041T",
        "outputId": "ce5ef9e7-b893-4156-bca8-3c9216c0d0d7"
      },
      "execution_count": null,
      "outputs": [
        {
          "output_type": "execute_result",
          "data": {
            "text/plain": [
              "149"
            ]
          },
          "metadata": {},
          "execution_count": 30
        }
      ]
    },
    {
      "cell_type": "code",
      "source": [
        "inmuebles.Barrio.value_counts()"
      ],
      "metadata": {
        "colab": {
          "base_uri": "https://localhost:8080/"
        },
        "id": "mM0YZdXf049p",
        "outputId": "9d7cd01d-cc78-4590-cd1d-16ac818e3779"
      },
      "execution_count": null,
      "outputs": [
        {
          "output_type": "execute_result",
          "data": {
            "text/plain": [
              "Usaquén               1105\n",
              "Zona Noroccidental     877\n",
              "Bosa                   589\n",
              "Kennedy                589\n",
              "Cedritos               554\n",
              "                      ... \n",
              "Colinas De Suba          1\n",
              "La Estanzuela            1\n",
              "Roma                     1\n",
              "Alameda                  1\n",
              "Prado Veraniego          1\n",
              "Name: Barrio, Length: 149, dtype: int64"
            ]
          },
          "metadata": {},
          "execution_count": 31
        }
      ]
    },
    {
      "cell_type": "code",
      "source": [
        "len(inmuebles.UPZ.value_counts())"
      ],
      "metadata": {
        "colab": {
          "base_uri": "https://localhost:8080/"
        },
        "id": "hfhoULKM05Cy",
        "outputId": "7bbdb580-ebe8-46c8-e997-1cee68815b7e"
      },
      "execution_count": null,
      "outputs": [
        {
          "output_type": "execute_result",
          "data": {
            "text/plain": [
              "63"
            ]
          },
          "metadata": {},
          "execution_count": 32
        }
      ]
    },
    {
      "cell_type": "markdown",
      "source": [
        "GRAFICOS"
      ],
      "metadata": {
        "id": "ECGIKWRS2tUy"
      }
    },
    {
      "cell_type": "code",
      "source": [
        "inmuebles_barrio = inmuebles.Barrio.value_counts()\n",
        "inmuebles_barrio.plot.bar()"
      ],
      "metadata": {
        "colab": {
          "base_uri": "https://localhost:8080/",
          "height": 388
        },
        "id": "BtAY5Ov505JU",
        "outputId": "71c8db0e-7fe4-46de-a39b-8e9ca1f45c60"
      },
      "execution_count": null,
      "outputs": [
        {
          "output_type": "execute_result",
          "data": {
            "text/plain": [
              "<Axes: >"
            ]
          },
          "metadata": {},
          "execution_count": 33
        },
        {
          "output_type": "display_data",
          "data": {
            "text/plain": [
              "<Figure size 432x288 with 1 Axes>"
            ],
            "image/png": "[encoded data removed]"
          },
          "metadata": {
            "needs_background": "light"
          }
        }
      ]
    },
    {
      "cell_type": "code",
      "source": [
        "inmuebles_barrio.head(10).plot.bar()"
      ],
      "metadata": {
        "colab": {
          "base_uri": "https://localhost:8080/",
          "height": 370
        },
        "id": "uq7nGe8i2vUN",
        "outputId": "33db357d-c6bb-459e-e298-078eb9476b07"
      },
      "execution_count": null,
      "outputs": [
        {
          "output_type": "execute_result",
          "data": {
            "text/plain": [
              "<Axes: >"
            ]
          },
          "metadata": {},
          "execution_count": 34
        },
        {
          "output_type": "display_data",
          "data": {
            "text/plain": [
              "<Figure size 432x288 with 1 Axes>"
            ],
            "image/png": "[encoded data removed]"
          },
          "metadata": {
            "needs_background": "light"
          }
        }
      ]
    },
    {
      "cell_type": "code",
      "source": [],
      "metadata": {
        "id": "SEoFxwt82vvm"
      },
      "execution_count": null,
      "outputs": []
    },
    {
      "cell_type": "markdown",
      "source": [
        "TAREAS CLASE 1"
      ],
      "metadata": {
        "id": "OGVLY0UzA9IK"
      }
    },
    {
      "cell_type": "code",
      "source": [
        "len(inmuebles.Barrio.value_counts())"
      ],
      "metadata": {
        "colab": {
          "base_uri": "https://localhost:8080/"
        },
        "id": "0g6B-qVzAmC6",
        "outputId": "39074166-2ec2-48a0-ec26-146239f6b23d"
      },
      "execution_count": null,
      "outputs": [
        {
          "output_type": "execute_result",
          "data": {
            "text/plain": [
              "149"
            ]
          },
          "metadata": {},
          "execution_count": 35
        }
      ]
    },
    {
      "cell_type": "code",
      "source": [
        "inmuebles.Barrio.value_counts()"
      ],
      "metadata": {
        "colab": {
          "base_uri": "https://localhost:8080/"
        },
        "id": "9a3cGPiwAmI5",
        "outputId": "3d52b488-1de9-4e5d-c1b5-a19047eb7c39"
      },
      "execution_count": null,
      "outputs": [
        {
          "output_type": "execute_result",
          "data": {
            "text/plain": [
              "Usaquén               1105\n",
              "Zona Noroccidental     877\n",
              "Bosa                   589\n",
              "Kennedy                589\n",
              "Cedritos               554\n",
              "                      ... \n",
              "Colinas De Suba          1\n",
              "La Estanzuela            1\n",
              "Roma                     1\n",
              "Alameda                  1\n",
              "Prado Veraniego          1\n",
              "Name: Barrio, Length: 149, dtype: int64"
            ]
          },
          "metadata": {},
          "execution_count": 40
        }
      ]
    },
    {
      "cell_type": "code",
      "source": [
        "inmuebles_areaprom = inmuebles.groupby('Barrio')['Area'].mean().sort_values(ascending=False)\n",
        "\n",
        "inmuebles_areaprom"
      ],
      "metadata": {
        "colab": {
          "base_uri": "https://localhost:8080/"
        },
        "id": "LwgkC1J-AmOB",
        "outputId": "9042bacc-28f7-4594-c1d5-3b5d8da0de93"
      },
      "execution_count": null,
      "outputs": [
        {
          "output_type": "execute_result",
          "data": {
            "text/plain": [
              "Barrio\n",
              "Modelia            4316.750000\n",
              "Libertador          642.000000\n",
              "Bosa Piamonte       400.000000\n",
              "La Soledad          378.625000\n",
              "Restrepo            336.500000\n",
              "                      ...     \n",
              "La Merced            41.000000\n",
              "El Tunal             41.000000\n",
              "San Diego            40.666667\n",
              "La Macarena          37.000000\n",
              "Prado Veraniego      25.000000\n",
              "Name: Area, Length: 149, dtype: float64"
            ]
          },
          "metadata": {},
          "execution_count": 31
        }
      ]
    },
    {
      "cell_type": "code",
      "source": [
        "inmuebles_areaprom.head(10).plot.bar()"
      ],
      "metadata": {
        "colab": {
          "base_uri": "https://localhost:8080/",
          "height": 392
        },
        "id": "z4H5v_HkZhxi",
        "outputId": "b7c0f38c-c205-46e9-ee51-0d87098085bb"
      },
      "execution_count": null,
      "outputs": [
        {
          "output_type": "execute_result",
          "data": {
            "text/plain": [
              "<Axes: xlabel='Barrio'>"
            ]
          },
          "metadata": {},
          "execution_count": 70
        },
        {
          "output_type": "display_data",
          "data": {
            "text/plain": [
              "<Figure size 432x288 with 1 Axes>"
            ],
            "image/png": "[encoded data removed]"
          },
          "metadata": {
            "needs_background": "light"
          }
        }
      ]
    },
    {
      "cell_type": "code",
      "source": [
        "inmuebles_areaprom.iloc[0]\n"
      ],
      "metadata": {
        "colab": {
          "base_uri": "https://localhost:8080/"
        },
        "id": "NIFIkO2fXT3m",
        "outputId": "e38f31a0-59b6-44b3-f879-cfb1ffb0e99e"
      },
      "execution_count": null,
      "outputs": [
        {
          "output_type": "execute_result",
          "data": {
            "text/plain": [
              "4316.75"
            ]
          },
          "metadata": {},
          "execution_count": 64
        }
      ]
    },
    {
      "cell_type": "code",
      "source": [
        "sinmodelia =inmuebles[inmuebles.Barrio!='Modelia']\n",
        "sinmodelia.shape"
      ],
      "metadata": {
        "colab": {
          "base_uri": "https://localhost:8080/"
        },
        "id": "tvMJ0Z1WY7kP",
        "outputId": "44c8dfff-85e8-4bd4-95c7-6713a28844cb"
      },
      "execution_count": null,
      "outputs": [
        {
          "output_type": "execute_result",
          "data": {
            "text/plain": [
              "(9480, 8)"
            ]
          },
          "metadata": {},
          "execution_count": 68
        }
      ]
    },
    {
      "cell_type": "code",
      "source": [
        "sinmodelia_aprom=sinmodelia.groupby('Barrio')['Area'].mean().sort_values(ascending=False)\n",
        "sinmodelia_aprom.head(10).plot.bar()"
      ],
      "metadata": {
        "colab": {
          "base_uri": "https://localhost:8080/",
          "height": 392
        },
        "id": "oyKmEhD0Y726",
        "outputId": "cdf00f52-1abb-4fbf-b1ca-3902ef81700b"
      },
      "execution_count": null,
      "outputs": [
        {
          "output_type": "execute_result",
          "data": {
            "text/plain": [
              "<Axes: xlabel='Barrio'>"
            ]
          },
          "metadata": {},
          "execution_count": 69
        },
        {
          "output_type": "display_data",
          "data": {
            "text/plain": [
              "<Figure size 432x288 with 1 Axes>"
            ],
            "image/png": "[encoded data removed]"
          },
          "metadata": {
            "needs_background": "light"
          }
        }
      ]
    },
    {
      "cell_type": "code",
      "source": [
        "type(sinmodelia)"
      ],
      "metadata": {
        "id": "VpdiZ0RAeza-",
        "outputId": "1a908dbb-13a8-4ccd-db35-62d4140b87d9",
        "colab": {
          "base_uri": "https://localhost:8080/"
        }
      },
      "execution_count": null,
      "outputs": [
        {
          "output_type": "execute_result",
          "data": {
            "text/plain": [
              "pandas.core.frame.DataFrame"
            ]
          },
          "metadata": {},
          "execution_count": 93
        }
      ]
    },
    {
      "cell_type": "code",
      "source": [
        "type(sinmodelia_aprom)"
      ],
      "metadata": {
        "colab": {
          "base_uri": "https://localhost:8080/"
        },
        "id": "eDR1Smx3d4kb",
        "outputId": "9fd549bf-2151-4035-9a6b-84b5ec1e3c87"
      },
      "execution_count": null,
      "outputs": [
        {
          "output_type": "execute_result",
          "data": {
            "text/plain": [
              "pandas.core.series.Series"
            ]
          },
          "metadata": {},
          "execution_count": 92
        }
      ]
    },
    {
      "cell_type": "code",
      "source": [
        "inmuebles_barrio_count = inmuebles.groupby('Barrio')['Barrio'].count().sort_values(ascending=False)\n",
        "inmuebles_barrio_count"
      ],
      "metadata": {
        "id": "0Lg-zHzVP1pR",
        "colab": {
          "base_uri": "https://localhost:8080/"
        },
        "outputId": "3696551d-7729-4e26-c600-77e53e43ca69"
      },
      "execution_count": null,
      "outputs": [
        {
          "output_type": "execute_result",
          "data": {
            "text/plain": [
              "Barrio\n",
              "Usaquén               1105\n",
              "Zona Noroccidental     877\n",
              "Kennedy                589\n",
              "Bosa                   589\n",
              "Cedritos               554\n",
              "                      ... \n",
              "Prado Veraniego          1\n",
              "Florencia                1\n",
              "El Tunal                 1\n",
              "Roma                     1\n",
              "Alameda                  1\n",
              "Name: Barrio, Length: 149, dtype: int64"
            ]
          },
          "metadata": {},
          "execution_count": 7
        }
      ]
    },
    {
      "cell_type": "code",
      "source": [
        "inmuebles_barrio_count.head(10).plot.bar()"
      ],
      "metadata": {
        "id": "pvtF-l54P1wG",
        "colab": {
          "base_uri": "https://localhost:8080/",
          "height": 384
        },
        "outputId": "3e7b30f3-95f4-4d79-c1a3-200fcda4501b"
      },
      "execution_count": null,
      "outputs": [
        {
          "output_type": "execute_result",
          "data": {
            "text/plain": [
              "<Axes: xlabel='Barrio'>"
            ]
          },
          "metadata": {},
          "execution_count": 8
        },
        {
          "output_type": "display_data",
          "data": {
            "text/plain": [
              "<Figure size 432x288 with 1 Axes>"
            ],
            "image/png": "[encoded data removed]"
          },
          "metadata": {
            "needs_background": "light"
          }
        }
      ]
    },
    {
      "cell_type": "code",
      "source": [
        "inmuebles.groupby('Barrio')['Area'].count().sort_values(ascending=False)"
      ],
      "metadata": {
        "id": "cUuthCqqMEsK",
        "colab": {
          "base_uri": "https://localhost:8080/"
        },
        "outputId": "b1706ab7-8918-4a06-b9a8-7a12e12ca9cf"
      },
      "execution_count": null,
      "outputs": [
        {
          "output_type": "execute_result",
          "data": {
            "text/plain": [
              "Barrio\n",
              "Usaquén               1105\n",
              "Zona Noroccidental     877\n",
              "Kennedy                589\n",
              "Bosa                   589\n",
              "Cedritos               554\n",
              "                      ... \n",
              "Prado Veraniego          1\n",
              "Florencia                1\n",
              "El Tunal                 1\n",
              "Roma                     1\n",
              "Alameda                  1\n",
              "Name: Area, Length: 149, dtype: int64"
            ]
          },
          "metadata": {},
          "execution_count": 12
        }
      ]
    },
    {
      "cell_type": "code",
      "source": [
        "inmuebles_barrio_armed = inmuebles.groupby('Barrio')['Area'].median().sort_values(ascending=False)\n",
        "inmuebles_barrio_armed.head(10).plot.bar()"
      ],
      "metadata": {
        "colab": {
          "base_uri": "https://localhost:8080/",
          "height": 360
        },
        "id": "IDy71PtFImvq",
        "outputId": "e37749b6-1d8f-4217-c2e8-227c9f3aeddc"
      },
      "execution_count": null,
      "outputs": [
        {
          "output_type": "execute_result",
          "data": {
            "text/plain": [
              "<Axes: xlabel='Barrio'>"
            ]
          },
          "metadata": {},
          "execution_count": 18
        },
        {
          "output_type": "display_data",
          "data": {
            "text/plain": [
              "<Figure size 432x288 with 1 Axes>"
            ],
            "image/png": "[encoded data removed]"
          },
          "metadata": {
            "needs_background": "light"
          }
        }
      ]
    },
    {
      "cell_type": "code",
      "source": [
        "inmuebles_barrio_minmax = inmuebles.groupby('Barrio')['Area'].max().sort_values(ascending=False)\n",
        "inmuebles_barrio_minmax.head(10).plot.bar()"
      ],
      "metadata": {
        "colab": {
          "base_uri": "https://localhost:8080/",
          "height": 384
        },
        "id": "KAEZKHZcJnnT",
        "outputId": "ffe91ad3-7027-4c99-87d0-3cf7f9e510d4"
      },
      "execution_count": null,
      "outputs": [
        {
          "output_type": "execute_result",
          "data": {
            "text/plain": [
              "<Axes: xlabel='Barrio'>"
            ]
          },
          "metadata": {},
          "execution_count": 25
        },
        {
          "output_type": "display_data",
          "data": {
            "text/plain": [
              "<Figure size 432x288 with 1 Axes>"
            ],
            "image/png": "[encoded data removed]"
          },
          "metadata": {
            "needs_background": "light"
          }
        }
      ]
    },
    {
      "cell_type": "code",
      "source": [
        "inmuebles_barrio_min = inmuebles.groupby('Barrio')['Area'].min().sort_values(ascending=False)\n",
        "inmuebles_barrio_min.head(10).plot.bar()"
      ],
      "metadata": {
        "colab": {
          "base_uri": "https://localhost:8080/",
          "height": 392
        },
        "id": "UqsGDwIZKECR",
        "outputId": "f06a4a69-786b-4175-d534-de34a127d5e4"
      },
      "execution_count": null,
      "outputs": [
        {
          "output_type": "execute_result",
          "data": {
            "text/plain": [
              "<Axes: xlabel='Barrio'>"
            ]
          },
          "metadata": {},
          "execution_count": 26
        },
        {
          "output_type": "display_data",
          "data": {
            "text/plain": [
              "<Figure size 432x288 with 1 Axes>"
            ],
            "image/png": "[encoded data removed]"
          },
          "metadata": {
            "needs_background": "light"
          }
        }
      ]
    },
    {
      "cell_type": "code",
      "source": [
        "print(inmuebles_areaprom.head(10).plot.bar())\n"
      ],
      "metadata": {
        "colab": {
          "base_uri": "https://localhost:8080/",
          "height": 392
        },
        "id": "V8GdDqYHKEIG",
        "outputId": "d881e0e5-5ceb-418c-fb2b-5ae20598ed95"
      },
      "execution_count": null,
      "outputs": [
        {
          "output_type": "stream",
          "name": "stdout",
          "text": [
            "Axes(0.125,0.125;0.775x0.755)\n"
          ]
        },
        {
          "output_type": "display_data",
          "data": {
            "text/plain": [
              "<Figure size 432x288 with 1 Axes>"
            ],
            "image/png": "[encoded data removed]"
          },
          "metadata": {
            "needs_background": "light"
          }
        }
      ]
    },
    {
      "cell_type": "code",
      "source": [
        "inmuebles_barrio_armed.head(20).plot.bar()\n"
      ],
      "metadata": {
        "colab": {
          "base_uri": "https://localhost:8080/",
          "height": 392
        },
        "id": "0jXzrL8gKEMl",
        "outputId": "98a5d625-4d40-40ad-9543-2bb02b6d2786"
      },
      "execution_count": null,
      "outputs": [
        {
          "output_type": "execute_result",
          "data": {
            "text/plain": [
              "<Axes: xlabel='Barrio'>"
            ]
          },
          "metadata": {},
          "execution_count": 86
        },
        {
          "output_type": "display_data",
          "data": {
            "text/plain": [
              "<Figure size 432x288 with 1 Axes>"
            ],
            "image/png": "[encoded data removed]"
          },
          "metadata": {
            "needs_background": "light"
          }
        }
      ]
    },
    {
      "cell_type": "code",
      "source": [
        "sinmodelia_aprom.head(10).plot.bar()"
      ],
      "metadata": {
        "colab": {
          "base_uri": "https://localhost:8080/",
          "height": 392
        },
        "id": "Q6AKzXUdZxcw",
        "outputId": "3a4a594d-fd47-42a7-bff8-db1602c334ee"
      },
      "execution_count": null,
      "outputs": [
        {
          "output_type": "execute_result",
          "data": {
            "text/plain": [
              "<Axes: xlabel='Barrio'>"
            ]
          },
          "metadata": {},
          "execution_count": 72
        },
        {
          "output_type": "display_data",
          "data": {
            "text/plain": [
              "<Figure size 432x288 with 1 Axes>"
            ],
            "image/png": "[encoded data removed]"
          },
          "metadata": {
            "needs_background": "light"
          }
        }
      ]
    },
    {
      "cell_type": "code",
      "source": [
        "mode = inmuebles.Barrio =='Modelia'\n",
        "mode"
      ],
      "metadata": {
        "colab": {
          "base_uri": "https://localhost:8080/"
        },
        "id": "2PwSQPjGMPER",
        "outputId": "9fc74518-699a-440e-f59b-166ce59596b0"
      },
      "execution_count": null,
      "outputs": [
        {
          "output_type": "execute_result",
          "data": {
            "text/plain": [
              "0       False\n",
              "1       False\n",
              "2       False\n",
              "3       False\n",
              "4       False\n",
              "        ...  \n",
              "9515    False\n",
              "9516    False\n",
              "9517    False\n",
              "9518    False\n",
              "9519    False\n",
              "Name: Barrio, Length: 9520, dtype: bool"
            ]
          },
          "metadata": {},
          "execution_count": 42
        }
      ]
    },
    {
      "cell_type": "code",
      "source": [
        "modelia = inmuebles[mode]\n",
        "modelia.shape\n",
        "type(modelia)"
      ],
      "metadata": {
        "colab": {
          "base_uri": "https://localhost:8080/"
        },
        "id": "wHjiHLYgMiT5",
        "outputId": "14d3cca4-d08b-42d6-8d7d-17607eeb5206"
      },
      "execution_count": null,
      "outputs": [
        {
          "output_type": "execute_result",
          "data": {
            "text/plain": [
              "pandas.core.frame.DataFrame"
            ]
          },
          "metadata": {},
          "execution_count": 66
        }
      ]
    },
    {
      "cell_type": "code",
      "source": [
        "modelia['Area'].sort_values(ascending=False).head(10)"
      ],
      "metadata": {
        "colab": {
          "base_uri": "https://localhost:8080/"
        },
        "id": "j91L0ODYMiYY",
        "outputId": "65f815b9-56e9-42d1-b0d1-854d5ee9ebb1"
      },
      "execution_count": null,
      "outputs": [
        {
          "output_type": "execute_result",
          "data": {
            "text/plain": [
              "7073    166243\n",
              "8562       400\n",
              "4913       320\n",
              "2147       320\n",
              "4914       320\n",
              "5059       287\n",
              "7908       275\n",
              "9326       270\n",
              "2257       244\n",
              "1283       236\n",
              "Name: Area, dtype: int64"
            ]
          },
          "metadata": {},
          "execution_count": 51
        }
      ]
    },
    {
      "cell_type": "code",
      "source": [
        "modelia['Area'].median()"
      ],
      "metadata": {
        "colab": {
          "base_uri": "https://localhost:8080/"
        },
        "id": "zHZL4_6GMib0",
        "outputId": "df9f84da-e360-41bb-98f7-8cee26a56d7b"
      },
      "execution_count": null,
      "outputs": [
        {
          "output_type": "execute_result",
          "data": {
            "text/plain": [
              "155.5"
            ]
          },
          "metadata": {},
          "execution_count": 52
        }
      ]
    },
    {
      "cell_type": "code",
      "source": [
        "soledad = inmuebles[inmuebles.Barrio =='La Soledad ']\n",
        "soledad.shape"
      ],
      "metadata": {
        "colab": {
          "base_uri": "https://localhost:8080/"
        },
        "id": "NieSWoTiMie2",
        "outputId": "59f10182-122d-4e37-8e34-5772be0490a0"
      },
      "execution_count": null,
      "outputs": [
        {
          "output_type": "execute_result",
          "data": {
            "text/plain": [
              "(8, 8)"
            ]
          },
          "metadata": {},
          "execution_count": 81
        }
      ]
    },
    {
      "cell_type": "code",
      "source": [
        "soledad['Area'].sort_values(ascending=False).head(30).plot.bar()"
      ],
      "metadata": {
        "colab": {
          "base_uri": "https://localhost:8080/",
          "height": 299
        },
        "id": "eGRP6duyMihU",
        "outputId": "04505620-db14-4f5a-ba25-570bb98cd798"
      },
      "execution_count": null,
      "outputs": [
        {
          "output_type": "execute_result",
          "data": {
            "text/plain": [
              "<Axes: >"
            ]
          },
          "metadata": {},
          "execution_count": 82
        },
        {
          "output_type": "display_data",
          "data": {
            "text/plain": [
              "<Figure size 432x288 with 1 Axes>"
            ],
            "image/png": "[encoded data removed]"
          },
          "metadata": {
            "needs_background": "light"
          }
        }
      ]
    },
    {
      "cell_type": "code",
      "source": [
        "soledad['Area'].median()"
      ],
      "metadata": {
        "colab": {
          "base_uri": "https://localhost:8080/"
        },
        "id": "6eJ1A8pxbYAX",
        "outputId": "a80ac6ef-17c5-4c47-f66e-aad0545937b0"
      },
      "execution_count": null,
      "outputs": [
        {
          "output_type": "execute_result",
          "data": {
            "text/plain": [
              "229.0"
            ]
          },
          "metadata": {},
          "execution_count": 85
        }
      ]
    },
    {
      "cell_type": "code",
      "source": [
        "inmuebles.groupby('Barrio')['Area'].describe()"
      ],
      "metadata": {
        "colab": {
          "base_uri": "https://localhost:8080/",
          "height": 499
        },
        "id": "gCpLy6SIbdrs",
        "outputId": "0109fd3c-31da-4b76-e267-23525bf73dc9"
      },
      "execution_count": null,
      "outputs": [
        {
          "output_type": "execute_result",
          "data": {
            "text/plain": [
              "                    count        mean         std   min     25%    50%  \\\n",
              "Barrio                                                                   \n",
              "Alameda               1.0   97.000000         NaN  97.0   97.00   97.0   \n",
              "Alhambra             17.0  190.411765   99.782300  50.0  112.00  164.0   \n",
              "Andes Norte           7.0  124.857143   49.780949  42.0  105.00  108.0   \n",
              "Antonio Nariño       48.0  163.062500  151.023798  32.0   58.75   72.0   \n",
              "Barrancas            15.0   70.200000    7.022413  63.0   63.00   75.0   \n",
              "...                   ...         ...         ...   ...     ...    ...   \n",
              "Villa Maria          13.0  207.153846   47.310757  51.0  222.00  222.0   \n",
              "Villas De Granada    22.0   86.590909   51.346312  50.0   64.00   64.0   \n",
              "Villemar             18.0   76.888889   48.502139  45.0   54.25   59.0   \n",
              "Zona Franca           1.0   54.000000         NaN  54.0   54.00   54.0   \n",
              "Zona Noroccidental  877.0  135.785633  223.813808  16.0   61.00   78.0   \n",
              "\n",
              "                       75%     max  \n",
              "Barrio                              \n",
              "Alameda              97.00    97.0  \n",
              "Alhambra            300.00   360.0  \n",
              "Andes Norte         167.00   180.0  \n",
              "Antonio Nariño      281.25   554.0  \n",
              "Barrancas            76.50    78.0  \n",
              "...                    ...     ...  \n",
              "Villa Maria         222.00   222.0  \n",
              "Villas De Granada    80.50   260.0  \n",
              "Villemar             59.00   224.0  \n",
              "Zona Franca          54.00    54.0  \n",
              "Zona Noroccidental  120.00  5458.0  \n",
              "\n",
              "[149 rows x 8 columns]"
            ],
            "text/html": [
              "\n",
              "  <div id=\"df-1f55eaf5-3dca-4449-b9c5-281985a6f6e9\">\n",
              "    <div class=\"colab-df-container\">\n",
              "      <div>\n",
              "<style scoped>\n",
              "    .dataframe tbody tr th:only-of-type {\n",
              "        vertical-align: middle;\n",
              "    }\n",
              "\n",
              "    .dataframe tbody tr th {\n",
              "        vertical-align: top;\n",
              "    }\n",
              "\n",
              "    .dataframe thead th {\n",
              "        text-align: right;\n",
              "    }\n",
              "</style>\n",
              "<table border=\"1\" class=\"dataframe\">\n",
              "  <thead>\n",
              "    <tr style=\"text-align: right;\">\n",
              "      <th></th>\n",
              "      <th>count</th>\n",
              "      <th>mean</th>\n",
              "      <th>std</th>\n",
              "      <th>min</th>\n",
              "      <th>25%</th>\n",
              "      <th>50%</th>\n",
              "      <th>75%</th>\n",
              "      <th>max</th>\n",
              "    </tr>\n",
              "    <tr>\n",
              "      <th>Barrio</th>\n",
              "      <th></th>\n",
              "      <th></th>\n",
              "      <th></th>\n",
              "      <th></th>\n",
              "      <th></th>\n",
              "      <th></th>\n",
              "      <th></th>\n",
              "      <th></th>\n",
              "    </tr>\n",
              "  </thead>\n",
              "  <tbody>\n",
              "    <tr>\n",
              "      <th>Alameda</th>\n",
              "      <td>1.0</td>\n",
              "      <td>97.000000</td>\n",
              "      <td>NaN</td>\n",
              "      <td>97.0</td>\n",
              "      <td>97.00</td>\n",
              "      <td>97.0</td>\n",
              "      <td>97.00</td>\n",
              "      <td>97.0</td>\n",
              "    </tr>\n",
              "    <tr>\n",
              "      <th>Alhambra</th>\n",
              "      <td>17.0</td>\n",
              "      <td>190.411765</td>\n",
              "      <td>99.782300</td>\n",
              "      <td>50.0</td>\n",
              "      <td>112.00</td>\n",
              "      <td>164.0</td>\n",
              "      <td>300.00</td>\n",
              "      <td>360.0</td>\n",
              "    </tr>\n",
              "    <tr>\n",
              "      <th>Andes Norte</th>\n",
              "      <td>7.0</td>\n",
              "      <td>124.857143</td>\n",
              "      <td>49.780949</td>\n",
              "      <td>42.0</td>\n",
              "      <td>105.00</td>\n",
              "      <td>108.0</td>\n",
              "      <td>167.00</td>\n",
              "      <td>180.0</td>\n",
              "    </tr>\n",
              "    <tr>\n",
              "      <th>Antonio Nariño</th>\n",
              "      <td>48.0</td>\n",
              "      <td>163.062500</td>\n",
              "      <td>151.023798</td>\n",
              "      <td>32.0</td>\n",
              "      <td>58.75</td>\n",
              "      <td>72.0</td>\n",
              "      <td>281.25</td>\n",
              "      <td>554.0</td>\n",
              "    </tr>\n",
              "    <tr>\n",
              "      <th>Barrancas</th>\n",
              "      <td>15.0</td>\n",
              "      <td>70.200000</td>\n",
              "      <td>7.022413</td>\n",
              "      <td>63.0</td>\n",
              "      <td>63.00</td>\n",
              "      <td>75.0</td>\n",
              "      <td>76.50</td>\n",
              "      <td>78.0</td>\n",
              "    </tr>\n",
              "    <tr>\n",
              "      <th>...</th>\n",
              "      <td>...</td>\n",
              "      <td>...</td>\n",
              "      <td>...</td>\n",
              "      <td>...</td>\n",
              "      <td>...</td>\n",
              "      <td>...</td>\n",
              "      <td>...</td>\n",
              "      <td>...</td>\n",
              "    </tr>\n",
              "    <tr>\n",
              "      <th>Villa Maria</th>\n",
              "      <td>13.0</td>\n",
              "      <td>207.153846</td>\n",
              "      <td>47.310757</td>\n",
              "      <td>51.0</td>\n",
              "      <td>222.00</td>\n",
              "      <td>222.0</td>\n",
              "      <td>222.00</td>\n",
              "      <td>222.0</td>\n",
              "    </tr>\n",
              "    <tr>\n",
              "      <th>Villas De Granada</th>\n",
              "      <td>22.0</td>\n",
              "      <td>86.590909</td>\n",
              "      <td>51.346312</td>\n",
              "      <td>50.0</td>\n",
              "      <td>64.00</td>\n",
              "      <td>64.0</td>\n",
              "      <td>80.50</td>\n",
              "      <td>260.0</td>\n",
              "    </tr>\n",
              "    <tr>\n",
              "      <th>Villemar</th>\n",
              "      <td>18.0</td>\n",
              "      <td>76.888889</td>\n",
              "      <td>48.502139</td>\n",
              "      <td>45.0</td>\n",
              "      <td>54.25</td>\n",
              "      <td>59.0</td>\n",
              "      <td>59.00</td>\n",
              "      <td>224.0</td>\n",
              "    </tr>\n",
              "    <tr>\n",
              "      <th>Zona Franca</th>\n",
              "      <td>1.0</td>\n",
              "      <td>54.000000</td>\n",
              "      <td>NaN</td>\n",
              "      <td>54.0</td>\n",
              "      <td>54.00</td>\n",
              "      <td>54.0</td>\n",
              "      <td>54.00</td>\n",
              "      <td>54.0</td>\n",
              "    </tr>\n",
              "    <tr>\n",
              "      <th>Zona Noroccidental</th>\n",
              "      <td>877.0</td>\n",
              "      <td>135.785633</td>\n",
              "      <td>223.813808</td>\n",
              "      <td>16.0</td>\n",
              "      <td>61.00</td>\n",
              "      <td>78.0</td>\n",
              "      <td>120.00</td>\n",
              "      <td>5458.0</td>\n",
              "    </tr>\n",
              "  </tbody>\n",
              "</table>\n",
              "<p>149 rows × 8 columns</p>\n",
              "</div>\n",
              "      <button class=\"colab-df-convert\" onclick=\"convertToInteractive('df-1f55eaf5-3dca-4449-b9c5-281985a6f6e9')\"\n",
              "              title=\"Convert this dataframe to an interactive table.\"\n",
              "              style=\"display:none;\">\n",
              "        \n",
              "  <svg xmlns=\"http://www.w3.org/2000/svg\" height=\"24px\"viewBox=\"0 0 24 24\"\n",
              "       width=\"24px\">\n",
              "    <path d=\"M0 0h24v24H0V0z\" fill=\"none\"/>\n",
              "    <path d=\"M18.56 5.44l.94 2.06.94-2.06 2.06-.94-2.06-.94-.94-2.06-.94 2.06-2.06.94zm-11 1L8.5 8.5l.94-2.06 2.06-.94-2.06-.94L8.5 2.5l-.94 2.06-2.06.94zm10 10l.94 2.06.94-2.06 2.06-.94-2.06-.94-.94-2.06-.94 2.06-2.06.94z\"/><path d=\"M17.41 7.96l-1.37-1.37c-.4-.4-.92-.59-1.43-.59-.52 0-1.04.2-1.43.59L10.3 9.45l-7.72 7.72c-.78.78-.78 2.05 0 2.83L4 21.41c.39.39.9.59 1.41.59.51 0 1.02-.2 1.41-.59l7.78-7.78 2.81-2.81c.8-.78.8-2.07 0-2.86zM5.41 20L4 18.59l7.72-7.72 1.47 1.35L5.41 20z\"/>\n",
              "  </svg>\n",
              "      </button>\n",
              "      \n",
              "  <style>\n",
              "    .colab-df-container {\n",
              "      display:flex;\n",
              "      flex-wrap:wrap;\n",
              "      gap: 12px;\n",
              "    }\n",
              "\n",
              "    .colab-df-convert {\n",
              "      background-color: #E8F0FE;\n",
              "      border: none;\n",
              "      border-radius: 50%;\n",
              "      cursor: pointer;\n",
              "      display: none;\n",
              "      fill: #1967D2;\n",
              "      height: 32px;\n",
              "      padding: 0 0 0 0;\n",
              "      width: 32px;\n",
              "    }\n",
              "\n",
              "    .colab-df-convert:hover {\n",
              "      background-color: #E2EBFA;\n",
              "      box-shadow: 0px 1px 2px rgba(60, 64, 67, 0.3), 0px 1px 3px 1px rgba(60, 64, 67, 0.15);\n",
              "      fill: #174EA6;\n",
              "    }\n",
              "\n",
              "    [theme=dark] .colab-df-convert {\n",
              "      background-color: #3B4455;\n",
              "      fill: #D2E3FC;\n",
              "    }\n",
              "\n",
              "    [theme=dark] .colab-df-convert:hover {\n",
              "      background-color: #434B5C;\n",
              "      box-shadow: 0px 1px 3px 1px rgba(0, 0, 0, 0.15);\n",
              "      filter: drop-shadow(0px 1px 2px rgba(0, 0, 0, 0.3));\n",
              "      fill: #FFFFFF;\n",
              "    }\n",
              "  </style>\n",
              "\n",
              "      <script>\n",
              "        const buttonEl =\n",
              "          document.querySelector('#df-1f55eaf5-3dca-4449-b9c5-281985a6f6e9 button.colab-df-convert');\n",
              "        buttonEl.style.display =\n",
              "          google.colab.kernel.accessAllowed ? 'block' : 'none';\n",
              "\n",
              "        async function convertToInteractive(key) {\n",
              "          const element = document.querySelector('#df-1f55eaf5-3dca-4449-b9c5-281985a6f6e9');\n",
              "          const dataTable =\n",
              "            await google.colab.kernel.invokeFunction('convertToInteractive',\n",
              "                                                     [key], {});\n",
              "          if (!dataTable) return;\n",
              "\n",
              "          const docLinkHtml = 'Like what you see? Visit the ' +\n",
              "            '<a target=\"_blank\" href=https://colab.research.google.com/notebooks/data_table.ipynb>data table notebook</a>'\n",
              "            + ' to learn more about interactive tables.';\n",
              "          element.innerHTML = '';\n",
              "          dataTable['output_type'] = 'display_data';\n",
              "          await google.colab.output.renderOutput(dataTable, element);\n",
              "          const docLink = document.createElement('div');\n",
              "          docLink.innerHTML = docLinkHtml;\n",
              "          element.appendChild(docLink);\n",
              "        }\n",
              "      </script>\n",
              "    </div>\n",
              "  </div>\n",
              "  "
            ]
          },
          "metadata": {},
          "execution_count": 91
        }
      ]
    },
    {
      "cell_type": "code",
      "source": [],
      "metadata": {
        "id": "z3pYGcpOcEO5"
      },
      "execution_count": null,
      "outputs": []
    }
  ]
}